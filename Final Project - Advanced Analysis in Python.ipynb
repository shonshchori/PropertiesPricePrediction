{
 "cells": [
  {
   "cell_type": "markdown",
   "source": [
    "# Final Project - Advanced Analysis in Python"
   ],
   "attachments": {},
   "metadata": {
    "datalore": {
     "node_id": "PP6ankiyXxqx6sqTAAzDnw",
     "type": "MD",
     "hide_input_from_viewers": true,
     "hide_output_from_viewers": true
    }
   }
  },
  {
   "cell_type": "code",
   "source": [
    "import pandas as pd\n",
    "import numpy as np\n",
    "import re\n",
    "from datetime import datetime\n",
    "from sklearn.compose import ColumnTransformer\n",
    "from sklearn.datasets import fetch_openml\n",
    "from sklearn.pipeline import Pipeline\n",
    "from sklearn.impute import SimpleImputer\n",
    "from sklearn.preprocessing import MinMaxScaler, StandardScaler, OneHotEncoder\n",
    "from sklearn.linear_model import SGDClassifier\n",
    "from sklearn.model_selection import train_test_split, RandomizedSearchCV\n",
    "from sklearn.feature_selection import SelectPercentile, chi2\n",
    "from sklearn.linear_model import ElasticNet\n",
    "from sklearn.model_selection import cross_val_score, KFold,LeaveOneOut, LeavePOut, GridSearchCV\n",
    "from sklearn.metrics import mean_squared_error\n",
    "import matplotlib.pyplot as plt\n",
    "import seaborn as sns\n",
    "import random\n",
    "import pickle\n",
    "\n",
    "# !pip install movecolumn\n",
    "import movecolumn as mc"
   ],
   "execution_count": 1,
   "outputs": [],
   "metadata": {
    "datalore": {
     "node_id": "GTrYHt2AetzgrNARJMK2LJ",
     "type": "CODE",
     "hide_input_from_viewers": true,
     "hide_output_from_viewers": true
    }
   }
  },
  {
   "cell_type": "markdown",
   "source": [
    "## EDA step - Understanding the data\n",
    "Before we'll start the exercise and answer the questions, let's first understand what we're facing with - our data."
   ],
   "attachments": {},
   "metadata": {
    "datalore": {
     "node_id": "gBSDuzF6SzQvAchDKyU81g",
     "type": "MD",
     "hide_input_from_viewers": true,
     "hide_output_from_viewers": true
    }
   }
  },
  {
   "cell_type": "code",
   "source": [
    "# Read the file\n",
    "file_name = '/data/notebook_files/output_all_students_Train_v10.csv'  # note: you can right-click on your file and copy-paste the path here\n",
    "dataset = pd.read_csv(file_name)\n",
    "dataset.drop(columns= 'Unnamed: 23', inplace = True)\n",
    "dataset.rename(columns={'hasElevator ':'hasElevator', 'hasParking ':'hasParking', 'hasBars ':'hasBars',\n",
    "                        'hasStorage ':'hasStorage', 'condition ':'condition', 'hasAirCondition ':'hasAirCondition',\n",
    "                        'hasBalcony ':'hasBalcony', 'hasMamad ':'hasMamad', 'handicapFriendly ':'handicapFriendly',\n",
    "                        'entranceDate ':'entranceDate','furniture ':'furniture', 'publishedDays ':'publishedDays',\n",
    "                        'description ':'description'}, inplace = True)\n",
    "dataset.sample(3)"
   ],
   "execution_count": 2,
   "outputs": [
    {
     "data": {
      "text/html": [
       "<div>\n",
       "<style scoped>\n",
       "    .dataframe tbody tr th:only-of-type {\n",
       "        vertical-align: middle;\n",
       "    }\n",
       "\n",
       "    .dataframe tbody tr th {\n",
       "        vertical-align: top;\n",
       "    }\n",
       "\n",
       "    .dataframe thead th {\n",
       "        text-align: right;\n",
       "    }\n",
       "</style>\n",
       "<table border=\"1\" class=\"dataframe\">\n",
       "  <thead>\n",
       "    <tr style=\"text-align: right;\">\n",
       "      <th></th>\n",
       "      <th>City</th>\n",
       "      <th>type</th>\n",
       "      <th>room_number</th>\n",
       "      <th>Area</th>\n",
       "      <th>Street</th>\n",
       "      <th>number_in_street</th>\n",
       "      <th>city_area</th>\n",
       "      <th>price</th>\n",
       "      <th>num_of_images</th>\n",
       "      <th>floor_out_of</th>\n",
       "      <th>...</th>\n",
       "      <th>hasStorage</th>\n",
       "      <th>condition</th>\n",
       "      <th>hasAirCondition</th>\n",
       "      <th>hasBalcony</th>\n",
       "      <th>hasMamad</th>\n",
       "      <th>handicapFriendly</th>\n",
       "      <th>entranceDate</th>\n",
       "      <th>furniture</th>\n",
       "      <th>publishedDays</th>\n",
       "      <th>description</th>\n",
       "    </tr>\n",
       "  </thead>\n",
       "  <tbody>\n",
       "    <tr>\n",
       "      <th>455</th>\n",
       "      <td>באר שבע</td>\n",
       "      <td>דירה</td>\n",
       "      <td>5</td>\n",
       "      <td>148</td>\n",
       "      <td>עוזי נרקיס</td>\n",
       "      <td>8</td>\n",
       "      <td>רמות ב</td>\n",
       "      <td>1890000</td>\n",
       "      <td>4.0</td>\n",
       "      <td>קומה 3 מתוך 5</td>\n",
       "      <td>...</td>\n",
       "      <td>FALSE</td>\n",
       "      <td>משופץ</td>\n",
       "      <td>TRUE</td>\n",
       "      <td>TRUE</td>\n",
       "      <td>TRUE</td>\n",
       "      <td>TRUE</td>\n",
       "      <td>גמיש</td>\n",
       "      <td>אין</td>\n",
       "      <td>3</td>\n",
       "      <td>מה זמן אתם כבר מחפשים דירת 5 חדרים למכירה ברמו...</td>\n",
       "    </tr>\n",
       "    <tr>\n",
       "      <th>281</th>\n",
       "      <td>זכרון יעקב</td>\n",
       "      <td>דירה</td>\n",
       "      <td>4 חד׳</td>\n",
       "      <td>96 מ\"ר</td>\n",
       "      <td>פרנק אנה</td>\n",
       "      <td>2</td>\n",
       "      <td>רמת צבי</td>\n",
       "      <td>2220000</td>\n",
       "      <td>6.0</td>\n",
       "      <td>קומה 1 מתוך 5</td>\n",
       "      <td>...</td>\n",
       "      <td>TRUE</td>\n",
       "      <td>חדש</td>\n",
       "      <td>TRUE</td>\n",
       "      <td>TRUE</td>\n",
       "      <td>TRUE</td>\n",
       "      <td>TRUE</td>\n",
       "      <td>גמיש</td>\n",
       "      <td>מלא</td>\n",
       "      <td>NaN</td>\n",
       "      <td>דירת  4 חדרים 96 מ\"ר משופצת כמו חדשה + מרפסת ש...</td>\n",
       "    </tr>\n",
       "    <tr>\n",
       "      <th>112</th>\n",
       "      <td>רחובות</td>\n",
       "      <td>דירה</td>\n",
       "      <td>4 חד׳</td>\n",
       "      <td>110 מ\"ר</td>\n",
       "      <td>אחד העם</td>\n",
       "      <td>1</td>\n",
       "      <td>מרכז העיר</td>\n",
       "      <td>2300000</td>\n",
       "      <td>0.0</td>\n",
       "      <td>קומה 1 מתוך 8</td>\n",
       "      <td>...</td>\n",
       "      <td>FALSE</td>\n",
       "      <td>שמור</td>\n",
       "      <td>TRUE</td>\n",
       "      <td>FALSE</td>\n",
       "      <td>TRUE</td>\n",
       "      <td>FALSE</td>\n",
       "      <td>לא צויין</td>\n",
       "      <td>לא צויין</td>\n",
       "      <td>0</td>\n",
       "      <td>מיקום סופר מרכזי , בניין נעים ונקי שכנים נחמדי...</td>\n",
       "    </tr>\n",
       "  </tbody>\n",
       "</table>\n",
       "<p>3 rows × 23 columns</p>\n",
       "</div>"
      ]
     },
     "metadata": {},
     "output_type": "display_data"
    }
   ],
   "metadata": {
    "datalore": {
     "node_id": "zfl58odUfv7gL1ktOxo5HO",
     "type": "CODE",
     "hide_input_from_viewers": true,
     "hide_output_from_viewers": true
    }
   }
  },
  {
   "cell_type": "code",
   "source": [
    "print (f'The length of the dataset is {len(dataset)} entries')"
   ],
   "execution_count": 3,
   "outputs": [
    {
     "name": "stdout",
     "text": [
      "The length of the dataset is 699 entries\n"
     ],
     "output_type": "stream"
    }
   ],
   "metadata": {
    "datalore": {
     "node_id": "qyjJNVT6ema7si3hbiiY2b",
     "type": "CODE",
     "hide_input_from_viewers": true,
     "hide_output_from_viewers": true
    }
   }
  },
  {
   "cell_type": "markdown",
   "source": [
    "### Missing Values:\n",
    "\n",
    "Let's check the missing values:"
   ],
   "attachments": {},
   "metadata": {
    "datalore": {
     "node_id": "hTXilODy71dHN5Oqw4Ldy9",
     "type": "MD",
     "hide_input_from_viewers": true,
     "hide_output_from_viewers": true
    }
   }
  },
  {
   "cell_type": "code",
   "source": [
    "dataset.isna().sum().sort_values(ascending = False)"
   ],
   "execution_count": 4,
   "outputs": [
    {
     "data": {
      "text/html": [
       "<pre>publishedDays       394\n",
       "number_in_street    190\n",
       "city_area            41\n",
       "description          26\n",
       "Street               23\n",
       "room_number          14\n",
       "floor_out_of         14\n",
       "Area                 13\n",
       "num_of_images         9\n",
       "price                 5\n",
       "hasBars               3\n",
       "hasAirCondition       2\n",
       "handicapFriendly      2\n",
       "hasMamad              2\n",
       "hasBalcony            2\n",
       "hasParking            2\n",
       "hasStorage            2\n",
       "hasElevator           2\n",
       "condition             1\n",
       "type                  0\n",
       "entranceDate          0\n",
       "furniture             0\n",
       "City                  0\n",
       "dtype: int64</pre>"
      ]
     },
     "metadata": {},
     "output_type": "display_data"
    }
   ],
   "metadata": {
    "datalore": {
     "node_id": "rWDabdP2mcXkKhK20ZVyFr",
     "type": "CODE",
     "hide_input_from_viewers": true,
     "hide_output_from_viewers": true
    }
   }
  },
  {
   "cell_type": "code",
   "source": [
    "print(\"The rows that don't have 'Price' values are {:.4f}% of the dataset\".format((dataset.price.isna().sum()/len(dataset))*100))"
   ],
   "execution_count": 5,
   "outputs": [
    {
     "name": "stdout",
     "text": [
      "The rows that don't have 'Price' values are 0.7153% of the dataset\n"
     ],
     "output_type": "stream"
    }
   ],
   "metadata": {
    "datalore": {
     "node_id": "YXpPQxv6s02qTzA31feJig",
     "type": "CODE",
     "hide_input_from_viewers": true,
     "hide_output_from_viewers": true
    }
   }
  },
  {
   "cell_type": "markdown",
   "source": [
    "**Since we can't fill price, and it's part of the dataset, we'll drop those rows.**"
   ],
   "attachments": {},
   "metadata": {
    "datalore": {
     "node_id": "BNRlfSwTYZRddv8muhY3uH",
     "type": "MD",
     "hide_input_from_viewers": true,
     "hide_output_from_viewers": true
    }
   }
  },
  {
   "cell_type": "code",
   "source": [
    "dataset.dropna(subset=['price'], inplace = True)"
   ],
   "execution_count": 6,
   "outputs": [],
   "metadata": {
    "datalore": {
     "node_id": "iPZOG3g5csyscF2KhGQTJA",
     "type": "CODE",
     "hide_input_from_viewers": true,
     "hide_output_from_viewers": true
    }
   }
  },
  {
   "cell_type": "markdown",
   "source": [
    "### Data Types\n",
    "Let's check the data types:"
   ],
   "attachments": {},
   "metadata": {
    "datalore": {
     "node_id": "5Dlnwd9Udh36dJM9BBK55b",
     "type": "MD",
     "hide_input_from_viewers": true,
     "hide_output_from_viewers": true
    }
   }
  },
  {
   "cell_type": "code",
   "source": [
    "dataset.dtypes"
   ],
   "execution_count": 7,
   "outputs": [
    {
     "data": {
      "text/html": [
       "<pre>City                 object\n",
       "type                 object\n",
       "room_number          object\n",
       "Area                 object\n",
       "Street               object\n",
       "number_in_street     object\n",
       "city_area            object\n",
       "price                object\n",
       "num_of_images       float64\n",
       "floor_out_of         object\n",
       "hasElevator          object\n",
       "hasParking           object\n",
       "hasBars              object\n",
       "hasStorage           object\n",
       "condition            object\n",
       "hasAirCondition      object\n",
       "hasBalcony           object\n",
       "hasMamad             object\n",
       "handicapFriendly     object\n",
       "entranceDate         object\n",
       "furniture            object\n",
       "publishedDays        object\n",
       "description          object\n",
       "dtype: object</pre>"
      ]
     },
     "metadata": {},
     "output_type": "display_data"
    }
   ],
   "metadata": {
    "datalore": {
     "node_id": "MLeHnXMZsQKmd0QTufarX0",
     "type": "CODE",
     "hide_input_from_viewers": true,
     "hide_output_from_viewers": true
    }
   }
  },
  {
   "cell_type": "markdown",
   "source": [
    "### Price column"
   ],
   "attachments": {},
   "metadata": {
    "datalore": {
     "node_id": "bpGQNQao2UhRkxxk1AaP5D",
     "type": "MD",
     "hide_input_from_viewers": true,
     "hide_output_from_viewers": true
    }
   }
  },
  {
   "cell_type": "code",
   "source": [
    "dataset.price.head()"
   ],
   "execution_count": 8,
   "outputs": [
    {
     "data": {
      "text/html": [
       "<pre>0    3600000\n",
       "1    2550000\n",
       "2    2650000\n",
       "3    2450000\n",
       "4    2720000\n",
       "Name: price, dtype: object</pre>"
      ]
     },
     "metadata": {},
     "output_type": "display_data"
    }
   ],
   "metadata": {
    "datalore": {
     "node_id": "lOhp6ovtlGeBMJ91WVTL3j",
     "type": "CODE",
     "hide_input_from_viewers": true,
     "hide_output_from_viewers": true
    }
   }
  },
  {
   "cell_type": "markdown",
   "source": [
    "**We need to convert it to float type for better analysis later on this project.**  \n",
    "To do so, we using `Regular Expressions` to retrieve the numbers from the strings, and convert them to float type."
   ],
   "attachments": {},
   "metadata": {
    "datalore": {
     "node_id": "zmmritryR5UZo9eB0UHk1O",
     "type": "MD",
     "hide_input_from_viewers": true,
     "hide_output_from_viewers": true
    }
   }
  },
  {
   "cell_type": "code",
   "source": [
    "def clean_price(price):\n",
    "    if re.findall(r'(?:₪)?([\\d,]+)', price) and isinstance(price, str):\n",
    "        return float(re.findall(r'(?:₪)?([\\d,]+)', price)[0].replace(',', ''))\n",
    "    return None"
   ],
   "execution_count": 9,
   "outputs": [],
   "metadata": {
    "datalore": {
     "node_id": "8yZTgaPIqk8xFLwiH7wta6",
     "type": "CODE",
     "hide_input_from_viewers": true,
     "hide_output_from_viewers": true
    }
   }
  },
  {
   "cell_type": "code",
   "source": [
    "dataset['price'] = dataset['price'].apply(clean_price)"
   ],
   "execution_count": 10,
   "outputs": [],
   "metadata": {
    "datalore": {
     "node_id": "8u2aFQDl9FT3mzXZeaDcbn",
     "type": "CODE",
     "hide_input_from_viewers": true,
     "hide_output_from_viewers": true
    }
   }
  },
  {
   "cell_type": "markdown",
   "source": [
    "**Again, we'll drop rows with no price.**"
   ],
   "attachments": {},
   "metadata": {
    "datalore": {
     "node_id": "9eburXvNmq0S4q1lcBLhuK",
     "type": "MD",
     "hide_input_from_viewers": true,
     "hide_output_from_viewers": true
    }
   }
  },
  {
   "cell_type": "code",
   "source": [
    "dataset.dropna(subset=['price'], inplace = True)"
   ],
   "execution_count": 11,
   "outputs": [],
   "metadata": {
    "datalore": {
     "node_id": "0IJP1fNvbY9cs6wCQP2Kup",
     "type": "CODE",
     "hide_input_from_viewers": true,
     "hide_output_from_viewers": true
    }
   }
  },
  {
   "cell_type": "markdown",
   "source": [
    "### Area column\n",
    "We'll work as we worked on the price column, with other 're' pattern which will fit the current column."
   ],
   "attachments": {},
   "metadata": {
    "datalore": {
     "node_id": "4KSuVO7uXKi7uFmWMdqYX0",
     "type": "MD",
     "hide_input_from_viewers": true,
     "hide_output_from_viewers": true
    }
   }
  },
  {
   "cell_type": "code",
   "source": [
    "dataset.Area.head()"
   ],
   "execution_count": 12,
   "outputs": [
    {
     "data": {
      "text/html": [
       "<pre>0    137\n",
       "1     84\n",
       "2    120\n",
       "3    110\n",
       "4    120\n",
       "Name: Area, dtype: object</pre>"
      ]
     },
     "metadata": {},
     "output_type": "display_data"
    }
   ],
   "metadata": {
    "datalore": {
     "node_id": "XdfHqR6SQy6sGfVSOMe65G",
     "type": "CODE",
     "hide_input_from_viewers": true,
     "hide_output_from_viewers": true
    }
   }
  },
  {
   "cell_type": "code",
   "source": [
    "# There's entities which includes the string 'עסקאות באיזור', we'll ignore them since they not includes actual area size.\n",
    "def clean_area(area):\n",
    "    if isinstance(area, str) and re.findall(r'[\\d,]+', area) and 'עסקאות באיזור' not in area:\n",
    "        return int(re.findall(r'[\\d,]+', area)[0])\n",
    "    return None"
   ],
   "execution_count": 13,
   "outputs": [],
   "metadata": {
    "datalore": {
     "node_id": "9abiwZijIovknOEnQG2XLD",
     "type": "CODE",
     "hide_input_from_viewers": true,
     "hide_output_from_viewers": true
    }
   }
  },
  {
   "cell_type": "code",
   "source": [
    "dataset['Area'] = dataset['Area'].apply(clean_area)"
   ],
   "execution_count": 14,
   "outputs": [],
   "metadata": {
    "datalore": {
     "node_id": "26klt07meTMQ7NOJPuMOHG",
     "type": "CODE",
     "hide_input_from_viewers": true,
     "hide_output_from_viewers": true
    }
   }
  },
  {
   "cell_type": "markdown",
   "source": [
    "### Room Number column"
   ],
   "attachments": {},
   "metadata": {
    "datalore": {
     "node_id": "zZbl1Rv0w81bSWEJBO4m4b",
     "type": "MD",
     "hide_input_from_viewers": true,
     "hide_output_from_viewers": true
    }
   }
  },
  {
   "cell_type": "code",
   "source": [
    "dataset.room_number.sample(5)"
   ],
   "execution_count": 15,
   "outputs": [
    {
     "data": {
      "text/html": [
       "<pre>560    5 חד׳\n",
       "14         4\n",
       "148    6 חד׳\n",
       "332        5\n",
       "418      3.5\n",
       "Name: room_number, dtype: object</pre>"
      ]
     },
     "metadata": {},
     "output_type": "display_data"
    }
   ],
   "metadata": {
    "datalore": {
     "node_id": "xnxNPyLVwsx7uNB2spfKCr",
     "type": "CODE",
     "hide_input_from_viewers": true,
     "hide_output_from_viewers": true
    }
   }
  },
  {
   "cell_type": "markdown",
   "source": [
    "We can see that there's few options for room number to appear, so we'll define function to handle this column."
   ],
   "attachments": {},
   "metadata": {
    "datalore": {
     "node_id": "mlfxtBdUJkRv80OWur0XS2",
     "type": "MD",
     "hide_input_from_viewers": true,
     "hide_output_from_viewers": true
    }
   }
  },
  {
   "cell_type": "code",
   "source": [
    "def extract_room(room):\n",
    "    try:\n",
    "        room_num = re.findall(r'\\d\\.*\\d*',room)\n",
    "        if len(room_num) == 1: # in case of only one digit (e.g. 6.5 rooms).\n",
    "            return float(room_num[0])\n",
    "        elif len(room_num) > 1: # in case of range of digits (e.g. 3-5 rooms).\n",
    "                numbers = [int(x) for x in room_num]\n",
    "                mean_room = np.mean(numbers)\n",
    "                return mean_room\n",
    "    except:\n",
    "        return None"
   ],
   "execution_count": 16,
   "outputs": [],
   "metadata": {
    "datalore": {
     "node_id": "ZJJ6xsZ8rDZcrQiKQ9vq2v",
     "type": "CODE",
     "hide_input_from_viewers": true,
     "hide_output_from_viewers": true
    }
   }
  },
  {
   "cell_type": "code",
   "source": [
    "dataset.room_number = dataset.room_number.apply(extract_room)"
   ],
   "execution_count": 17,
   "outputs": [],
   "metadata": {
    "datalore": {
     "node_id": "ViYgXe4kDB17uSDZAdKH9T",
     "type": "CODE",
     "hide_input_from_viewers": true,
     "hide_output_from_viewers": true
    }
   }
  },
  {
   "cell_type": "code",
   "source": [
    "print(\"The rows that don't have 'room_number' values are {:.4f}% of the dataset\".format((dataset.room_number.isna().sum()/len(dataset))*100))"
   ],
   "execution_count": 18,
   "outputs": [
    {
     "name": "stdout",
     "text": [
      "The rows that don't have 'room_number' values are 1.5873% of the dataset\n"
     ],
     "output_type": "stream"
    }
   ],
   "metadata": {
    "datalore": {
     "node_id": "zDdJwH3spRd68SiK2J0NUE",
     "type": "CODE",
     "hide_input_from_viewers": true,
     "hide_output_from_viewers": true
    }
   }
  },
  {
   "cell_type": "markdown",
   "source": [
    "### City column\n",
    "There's cities that appears few times in different ways, e.g. Nahariya. **Let's fix that.**"
   ],
   "attachments": {},
   "metadata": {
    "datalore": {
     "node_id": "UHx7TLUuH5eLNtlrUzWt32",
     "type": "MD",
     "hide_input_from_viewers": true,
     "hide_output_from_viewers": true
    }
   }
  },
  {
   "cell_type": "code",
   "source": [
    "# Change the city names that appear more than once.\n",
    "\n",
    "def clean_city(city):\n",
    "    return city.strip().replace('נהרייה', 'נהריה')"
   ],
   "execution_count": 19,
   "outputs": [],
   "metadata": {
    "datalore": {
     "node_id": "dQNLAlu2dPplfrNTh8L66a",
     "type": "CODE",
     "hide_input_from_viewers": true,
     "hide_output_from_viewers": true
    }
   }
  },
  {
   "cell_type": "code",
   "source": [
    "dataset.City = dataset.City.apply(clean_city)"
   ],
   "execution_count": 20,
   "outputs": [],
   "metadata": {
    "datalore": {
     "node_id": "Bu9gvkVkdwkHxwBQsgimX4",
     "type": "CODE",
     "hide_input_from_viewers": true,
     "hide_output_from_viewers": true
    }
   }
  },
  {
   "cell_type": "markdown",
   "source": [
    "### Floors column\n",
    "We want to break this column into two columns: the property's floor ('floor') and the entiere building floor ('total_floors')."
   ],
   "attachments": {},
   "metadata": {
    "datalore": {
     "node_id": "Gxucqo7YkOIv2ytSdx4lkJ",
     "type": "MD",
     "hide_input_from_viewers": true,
     "hide_output_from_viewers": true
    }
   }
  },
  {
   "cell_type": "code",
   "source": [
    "dataset.floor_out_of.head()"
   ],
   "execution_count": 21,
   "outputs": [
    {
     "data": {
      "text/html": [
       "<pre>0    קומה 11 מתוך 19\n",
       "1      קומה 6 מתוך 9\n",
       "2      קומה 2 מתוך 7\n",
       "3      קומה 2 מתוך 6\n",
       "4      קומה 3 מתוך 6\n",
       "Name: floor_out_of, dtype: object</pre>"
      ]
     },
     "metadata": {},
     "output_type": "display_data"
    }
   ],
   "metadata": {
    "datalore": {
     "node_id": "J6pU5aXqANL3Q03sHwzsAh",
     "type": "CODE",
     "hide_input_from_viewers": true,
     "hide_output_from_viewers": true
    }
   }
  },
  {
   "cell_type": "code",
   "source": [
    "def extract_floors(floors):\n",
    "    floors = str(floors)\n",
    "    if not floors or floors in ['None', 'nan']: # handle Null values\n",
    "        return None,None\n",
    "    floor_numbers = re.findall(r'\\d\\.*\\d*',floors)\n",
    "    try: # if the floors appear in the appropriate way (floor X out of Y floors)\n",
    "        floor = int(floor_numbers[0])\n",
    "        out_of_floors = int(floor_numbers[1])\n",
    "        if floor <= out_of_floors:\n",
    "            return floor, out_of_floors\n",
    "        else: # if the floors wrote in the opposite way\n",
    "            return out_of_floors, floor\n",
    "    except: # in case that there is only one floor\n",
    "        if floors == 'קומת קרקע':\n",
    "            return 0, None\n",
    "        elif floors == 'קומת מרתף':\n",
    "            return -1, None\n",
    "        elif floors and isinstance(floor_numbers[0], str):\n",
    "            return int(floor_numbers[0]), None"
   ],
   "execution_count": 22,
   "outputs": [],
   "metadata": {
    "datalore": {
     "node_id": "I9YTQ6CON9LPgVaRyboWTp",
     "type": "CODE",
     "hide_input_from_viewers": true,
     "hide_output_from_viewers": true
    }
   }
  },
  {
   "cell_type": "code",
   "source": [
    "dataset[['floor','total_floors']] = dataset.floor_out_of.apply(lambda row: pd.Series(extract_floors(row)))\n",
    "dataset.drop(columns='floor_out_of', inplace = True)"
   ],
   "execution_count": 23,
   "outputs": [],
   "metadata": {
    "datalore": {
     "node_id": "nsj4sjmojp1R6zauVgR8D5",
     "type": "CODE",
     "hide_input_from_viewers": true,
     "hide_output_from_viewers": true
    }
   }
  },
  {
   "cell_type": "markdown",
   "source": [
    "### Handle the Boolean Columns\n",
    "Since there are different values for 'True' of 'False' in each of the boolean column, we need to normalize them."
   ],
   "attachments": {},
   "metadata": {
    "datalore": {
     "node_id": "92ucJDjpi5S7IMiV46YbmK",
     "type": "MD",
     "hide_input_from_viewers": true,
     "hide_output_from_viewers": true
    }
   }
  },
  {
   "cell_type": "code",
   "source": [
    "bool_cols = ['hasElevator', 'hasParking','hasBars', 'hasStorage', 'hasAirCondition', 'hasBalcony', 'hasMamad', 'handicapFriendly']"
   ],
   "execution_count": 24,
   "outputs": [],
   "metadata": {
    "datalore": {
     "node_id": "F6nDUVhhlbD38b1wyiuanS",
     "type": "CODE",
     "hide_input_from_viewers": true,
     "hide_output_from_viewers": true
    }
   }
  },
  {
   "cell_type": "code",
   "source": [
    "def boolean_encoding(row):\n",
    "    truth_vals = ['True', 'TRUE', '1', 'כן', 'יש', 'yes']\n",
    "    return 1 if str(row) in truth_vals or 'יש' in str(row) else 0"
   ],
   "execution_count": 25,
   "outputs": [],
   "metadata": {
    "datalore": {
     "node_id": "SFGWVfIkDShN3DSglbaxWY",
     "type": "CODE",
     "hide_input_from_viewers": true,
     "hide_output_from_viewers": true
    }
   }
  },
  {
   "cell_type": "code",
   "source": [
    "dataset[bool_cols] = dataset[bool_cols].applymap(boolean_encoding)"
   ],
   "execution_count": 26,
   "outputs": [],
   "metadata": {
    "datalore": {
     "node_id": "HWajQJrtEC1h4AOwq1u4HR",
     "type": "CODE",
     "hide_input_from_viewers": true,
     "hide_output_from_viewers": true
    }
   }
  },
  {
   "cell_type": "markdown",
   "source": [
    "### entranceDate Column\n",
    "We'll convert this column into categorial one."
   ],
   "attachments": {},
   "metadata": {
    "datalore": {
     "node_id": "qcQQTP5e7L7sKDpM4F5b24",
     "type": "MD",
     "hide_input_from_viewers": true,
     "hide_output_from_viewers": true
    }
   }
  },
  {
   "cell_type": "code",
   "source": [
    "def extract_flexibility(ent_date):\n",
    "    if not ent_date or ent_date == 'לא צויין':\n",
    "        return 'not_defined'\n",
    "    if 'גמיש' in ent_date:\n",
    "        return 'flexible'\n",
    "    elif ent_date == 'מיידי':\n",
    "        return 'less_than_6_months'\n",
    "    else:\n",
    "        ent_date = datetime.strptime(ent_date, '%d/%m/%Y')\n",
    "        today = datetime.today().date() # Today's date\n",
    "        delta = (ent_date.date()-today).days # Delta in days\n",
    "        delta= delta/30.44 # Delta in months\n",
    "        if delta < 6:\n",
    "            return 'less_than_6_months'\n",
    "        elif delta < 12:\n",
    "            return '6-12_months'\n",
    "        return 'above_year'"
   ],
   "execution_count": 27,
   "outputs": [],
   "metadata": {
    "datalore": {
     "node_id": "7DBqe68JY64J6UGTocgXe6",
     "type": "CODE",
     "hide_input_from_viewers": true,
     "hide_output_from_viewers": true
    }
   }
  },
  {
   "cell_type": "code",
   "source": [
    "dataset.entranceDate = dataset.entranceDate.apply(extract_flexibility)"
   ],
   "execution_count": 28,
   "outputs": [],
   "metadata": {
    "datalore": {
     "node_id": "GoKPf2ar3OWKTqhk1XUk9J",
     "type": "CODE",
     "hide_input_from_viewers": true,
     "hide_output_from_viewers": true
    }
   }
  },
  {
   "cell_type": "markdown",
   "source": [
    "### Fixing Address Column"
   ],
   "attachments": {},
   "metadata": {
    "datalore": {
     "node_id": "eKL7BUX2YLEhvnYJQhL5Iw",
     "type": "MD",
     "hide_input_from_viewers": true,
     "hide_output_from_viewers": true
    }
   }
  },
  {
   "cell_type": "code",
   "source": [
    "def fix_address(address):\n",
    "    street = str(address[0])\n",
    "    number = str(address[1])\n",
    "    area = str(address[2])\n",
    "    if 'בשכונת ' in street:\n",
    "        area = re.sub(r'[^א-ת\\s]|בשכונת', '', street).strip() # Replace the special characters with ''\n",
    "        try:\n",
    "            number = re.search(r'\\d+', number).group() # Find the first sequence of digits\n",
    "        except:\n",
    "            number=None\n",
    "        street=None\n",
    "    else:\n",
    "        street = re.sub(r'[^א-ת\\s]|בשכונת', '', street).strip() # Replace the special characters with ''\n",
    "        try:\n",
    "            number = re.search(r'\\d+', number).group() # Find the first sequence of digits\n",
    "        except:\n",
    "            try:\n",
    "                number = re.search(r'\\d+', address[0]).group()\n",
    "            except:\n",
    "                number=None\n",
    "        area= re.sub(r'[^א-ת\\s]|בשכונת', '', area).strip() # Replace the special characters with ''\n",
    "    if street == '':\n",
    "        street= None\n",
    "    if number == '':\n",
    "        number= None    \n",
    "    if area == '':\n",
    "        area= None\n",
    "    return street, number, area"
   ],
   "execution_count": 29,
   "outputs": [],
   "metadata": {
    "datalore": {
     "node_id": "KNbJamHnSUMx1G5nU2lNu5",
     "type": "CODE",
     "hide_input_from_viewers": true,
     "hide_output_from_viewers": true
    }
   }
  },
  {
   "cell_type": "code",
   "source": [
    "address_cols = ['Street','number_in_street','city_area']\n",
    "dataset[address_cols] = dataset[address_cols].apply(lambda x: pd.Series(fix_address(x)), axis = 1)"
   ],
   "execution_count": 30,
   "outputs": [],
   "metadata": {
    "datalore": {
     "node_id": "11oiBVM4oEubzwyf6IwdhF",
     "type": "CODE",
     "hide_input_from_viewers": true,
     "hide_output_from_viewers": true
    }
   }
  },
  {
   "cell_type": "markdown",
   "source": [
    "### Fix Categories and Fill missing values"
   ],
   "attachments": {},
   "metadata": {
    "datalore": {
     "node_id": "b7BPOWy3j8CBRc9kA1NbWD",
     "type": "MD",
     "hide_input_from_viewers": true,
     "hide_output_from_viewers": true
    }
   }
  },
  {
   "cell_type": "code",
   "source": [
    "dataset.condition.fillna('לא צויין', inplace = True)\n",
    "dataset.condition = dataset.condition.replace({'None':'לא צויין','FALSE':'לא צויין'})\n",
    "\n",
    "dataset.num_of_images.fillna(0, inplace = True)\n",
    "\n",
    "dataset.description.fillna('אין', inplace = True)\n",
    "dataset.description = dataset.description.replace({'None':'אין', 'None ':'אין'})\n",
    "\n",
    "dataset.publishedDays = dataset.publishedDays.replace({'Nan':'None', '-':'None', 'None ':'None', 'חדש': 0, 'חדש!': 0})\n",
    "\n",
    "dataset.total_floors.fillna(dataset.floor, inplace=True)"
   ],
   "execution_count": 31,
   "outputs": [],
   "metadata": {
    "datalore": {
     "node_id": "5JQUPlHOoEvs7HbpmdDKtE",
     "type": "CODE",
     "hide_input_from_viewers": true,
     "hide_output_from_viewers": true
    }
   }
  },
  {
   "cell_type": "code",
   "source": [
    "conditions = (dataset['floor'].isna()) & (dataset['type'].isin([\"קוטג'\", 'דו משפחתי']))\n",
    "dataset.loc[conditions, 'floor'] = 0\n",
    "dataset.loc[conditions, 'total_floors'] = 0\n",
    "\n",
    "mean_floor = round(dataset.floor.mean())\n",
    "dataset.floor.fillna(mean_floor, inplace = True)\n",
    "\n",
    "mean_tot_floor = round(dataset.total_floors.mean())\n",
    "dataset.total_floors.fillna(mean_tot_floor, inplace = True)"
   ],
   "execution_count": 32,
   "outputs": [],
   "metadata": {
    "datalore": {
     "node_id": "0GpLPPxjufdJ6QqDpiICbJ",
     "type": "CODE",
     "hide_input_from_viewers": true,
     "hide_output_from_viewers": true
    }
   }
  },
  {
   "cell_type": "code",
   "source": [
    "dataset.isna().sum().sort_values(ascending = False)"
   ],
   "execution_count": 33,
   "outputs": [
    {
     "data": {
      "text/html": [
       "<pre>publishedDays       390\n",
       "number_in_street    218\n",
       "city_area            46\n",
       "Street               42\n",
       "Area                 19\n",
       "room_number          11\n",
       "City                  0\n",
       "hasBalcony            0\n",
       "floor                 0\n",
       "description           0\n",
       "furniture             0\n",
       "entranceDate          0\n",
       "handicapFriendly      0\n",
       "hasMamad              0\n",
       "hasStorage            0\n",
       "hasAirCondition       0\n",
       "condition             0\n",
       "type                  0\n",
       "hasBars               0\n",
       "hasParking            0\n",
       "hasElevator           0\n",
       "num_of_images         0\n",
       "price                 0\n",
       "total_floors          0\n",
       "dtype: int64</pre>"
      ]
     },
     "metadata": {},
     "output_type": "display_data"
    }
   ],
   "metadata": {
    "datalore": {
     "node_id": "cdMrQkusxkPXe7pwalNtgk",
     "type": "CODE",
     "hide_input_from_viewers": true,
     "hide_output_from_viewers": true
    }
   }
  },
  {
   "cell_type": "code",
   "source": [
    "print(\"The rows that don't have 'Area' values are {:.4f}% of the dataset\".format((dataset.Area.isna().sum()/len(dataset))*100))"
   ],
   "execution_count": 34,
   "outputs": [
    {
     "name": "stdout",
     "text": [
      "The rows that don't have 'Area' values are 2.7417% of the dataset\n"
     ],
     "output_type": "stream"
    }
   ],
   "metadata": {
    "datalore": {
     "node_id": "hjeBgDsgMKDHT9UoIyy1DH",
     "type": "CODE",
     "hide_input_from_viewers": true,
     "hide_output_from_viewers": true
    }
   }
  },
  {
   "cell_type": "code",
   "source": [
    "mean_room_size = (dataset.Area/dataset.room_number).mean()\n",
    "mean_room_size"
   ],
   "execution_count": 35,
   "outputs": [
    {
     "data": {
      "text/plain": [
       "27.62019713657603"
      ]
     },
     "metadata": {},
     "output_type": "display_data"
    }
   ],
   "metadata": {
    "datalore": {
     "node_id": "6alilCTy2HGTLobgkmEDzT",
     "type": "CODE",
     "hide_input_from_viewers": true,
     "hide_output_from_viewers": true
    }
   }
  },
  {
   "cell_type": "markdown",
   "source": [
    "Fill missing values in 'Area' using the `mean_room_size`:"
   ],
   "attachments": {},
   "metadata": {
    "datalore": {
     "node_id": "VvcArS1soT4J9vMMpUopOh",
     "type": "MD",
     "hide_input_from_viewers": true,
     "hide_output_from_viewers": true
    }
   }
  },
  {
   "cell_type": "code",
   "source": [
    "conditions = dataset['Area'].isna()\n",
    "dataset[conditions][['Area','room_number']]"
   ],
   "execution_count": 36,
   "outputs": [
    {
     "data": {
      "text/html": [
       "<div>\n",
       "<style scoped>\n",
       "    .dataframe tbody tr th:only-of-type {\n",
       "        vertical-align: middle;\n",
       "    }\n",
       "\n",
       "    .dataframe tbody tr th {\n",
       "        vertical-align: top;\n",
       "    }\n",
       "\n",
       "    .dataframe thead th {\n",
       "        text-align: right;\n",
       "    }\n",
       "</style>\n",
       "<table border=\"1\" class=\"dataframe\">\n",
       "  <thead>\n",
       "    <tr style=\"text-align: right;\">\n",
       "      <th></th>\n",
       "      <th>Area</th>\n",
       "      <th>room_number</th>\n",
       "    </tr>\n",
       "  </thead>\n",
       "  <tbody>\n",
       "    <tr>\n",
       "      <th>33</th>\n",
       "      <td>NaN</td>\n",
       "      <td>6.0</td>\n",
       "    </tr>\n",
       "    <tr>\n",
       "      <th>97</th>\n",
       "      <td>NaN</td>\n",
       "      <td>3.0</td>\n",
       "    </tr>\n",
       "    <tr>\n",
       "      <th>161</th>\n",
       "      <td>NaN</td>\n",
       "      <td>3.0</td>\n",
       "    </tr>\n",
       "    <tr>\n",
       "      <th>185</th>\n",
       "      <td>NaN</td>\n",
       "      <td>4.0</td>\n",
       "    </tr>\n",
       "    <tr>\n",
       "      <th>204</th>\n",
       "      <td>NaN</td>\n",
       "      <td>3.5</td>\n",
       "    </tr>\n",
       "    <tr>\n",
       "      <th>205</th>\n",
       "      <td>NaN</td>\n",
       "      <td>5.5</td>\n",
       "    </tr>\n",
       "    <tr>\n",
       "      <th>208</th>\n",
       "      <td>NaN</td>\n",
       "      <td>3.0</td>\n",
       "    </tr>\n",
       "    <tr>\n",
       "      <th>239</th>\n",
       "      <td>NaN</td>\n",
       "      <td>3.5</td>\n",
       "    </tr>\n",
       "    <tr>\n",
       "      <th>261</th>\n",
       "      <td>NaN</td>\n",
       "      <td>4.0</td>\n",
       "    </tr>\n",
       "    <tr>\n",
       "      <th>317</th>\n",
       "      <td>NaN</td>\n",
       "      <td>4.0</td>\n",
       "    </tr>\n",
       "    <tr>\n",
       "      <th>329</th>\n",
       "      <td>NaN</td>\n",
       "      <td>4.0</td>\n",
       "    </tr>\n",
       "    <tr>\n",
       "      <th>330</th>\n",
       "      <td>NaN</td>\n",
       "      <td>5.0</td>\n",
       "    </tr>\n",
       "    <tr>\n",
       "      <th>351</th>\n",
       "      <td>NaN</td>\n",
       "      <td>6.0</td>\n",
       "    </tr>\n",
       "    <tr>\n",
       "      <th>490</th>\n",
       "      <td>NaN</td>\n",
       "      <td>4.0</td>\n",
       "    </tr>\n",
       "    <tr>\n",
       "      <th>498</th>\n",
       "      <td>NaN</td>\n",
       "      <td>4.0</td>\n",
       "    </tr>\n",
       "    <tr>\n",
       "      <th>519</th>\n",
       "      <td>NaN</td>\n",
       "      <td>7.0</td>\n",
       "    </tr>\n",
       "    <tr>\n",
       "      <th>528</th>\n",
       "      <td>NaN</td>\n",
       "      <td>4.0</td>\n",
       "    </tr>\n",
       "    <tr>\n",
       "      <th>555</th>\n",
       "      <td>NaN</td>\n",
       "      <td>4.5</td>\n",
       "    </tr>\n",
       "    <tr>\n",
       "      <th>687</th>\n",
       "      <td>NaN</td>\n",
       "      <td>1.0</td>\n",
       "    </tr>\n",
       "  </tbody>\n",
       "</table>\n",
       "</div>"
      ]
     },
     "metadata": {},
     "output_type": "display_data"
    }
   ],
   "metadata": {
    "datalore": {
     "node_id": "WK3Pd4NMcpmq71uyhEESj8",
     "type": "CODE",
     "hide_input_from_viewers": true,
     "hide_output_from_viewers": true
    }
   }
  },
  {
   "cell_type": "code",
   "source": [
    "# Now we can fill the Area for the entires who missing it.\n",
    "dataset.loc[dataset.Area.isna(), 'Area'] = mean_room_size * dataset.loc[dataset.Area.isna(), 'room_number']"
   ],
   "execution_count": 37,
   "outputs": [],
   "metadata": {
    "datalore": {
     "node_id": "l7IfDyM2cAVELovwvoRbOl",
     "type": "CODE",
     "hide_input_from_viewers": true,
     "hide_output_from_viewers": true
    }
   }
  },
  {
   "cell_type": "code",
   "source": [
    "# Now we can fill the room number for the entires who missing it.\n",
    "dataset.loc[dataset.room_number.isna(), 'room_number'] = dataset.loc[dataset.room_number.isna(), 'Area'] / mean_room_size  "
   ],
   "execution_count": 38,
   "outputs": [],
   "metadata": {
    "datalore": {
     "node_id": "a6yYa1FRYs6ywJkoybnNuF",
     "type": "CODE",
     "hide_input_from_viewers": true,
     "hide_output_from_viewers": true
    }
   }
  },
  {
   "cell_type": "markdown",
   "source": [
    "### Feature Engineering"
   ],
   "attachments": {},
   "metadata": {
    "datalore": {
     "node_id": "lCjMYs1nlixziTunvqADuV",
     "type": "MD",
     "hide_input_from_viewers": true,
     "hide_output_from_viewers": true
    }
   }
  },
  {
   "cell_type": "code",
   "source": [
    "dataset['Shopping_Center'] = dataset.description.apply(lambda x: int(any(map(lambda value: value in x, ['מסחרי','בילוי']))))\n",
    "\n",
    "edu_list = ['חינוך','בית ספר','בתי ספר',' גנים','מוסד','אוניברסיט']\n",
    "dataset['Education'] = dataset.description.apply(lambda x: int(any(map(lambda value: value in x, edu_list))))"
   ],
   "execution_count": 39,
   "outputs": [],
   "metadata": {
    "datalore": {
     "node_id": "qrvHkMlwvlwxCy41C4qj75",
     "type": "CODE",
     "hide_input_from_viewers": true,
     "hide_output_from_viewers": true
    }
   }
  },
  {
   "cell_type": "markdown",
   "source": [
    "### Handle Outliers"
   ],
   "attachments": {},
   "metadata": {
    "datalore": {
     "node_id": "HipTKKIQyuBLtuV5ipcJAl",
     "type": "MD",
     "hide_input_from_viewers": true,
     "hide_output_from_viewers": true
    }
   }
  },
  {
   "cell_type": "code",
   "source": [
    "df_to_plot =  dataset[['price', 'room_number', 'Area','floor','total_floors']]\n",
    "df_to_plot.plot(subplots=True, layout=(1,5), kind='box', figsize=(20,10), patch_artist=True)\n",
    "plt.subplots_adjust(wspace=0.5);"
   ],
   "execution_count": 40,
   "outputs": [
    {
     "data": {
      "image/png": "[encoded data removed]"
     },
     "metadata": {
      "image/png": {}
     },
     "output_type": "display_data"
    }
   ],
   "metadata": {
    "datalore": {
     "node_id": "bbMyuGyUpKzTTayOcqFRLf",
     "type": "CODE",
     "hide_input_from_viewers": true,
     "hide_output_from_viewers": true
    }
   }
  },
  {
   "cell_type": "markdown",
   "source": [
    "We can see that there's a lot of outliers, which can harm the prediction. Let's drop them."
   ],
   "attachments": {},
   "metadata": {
    "datalore": {
     "node_id": "YEK0Hcb9d1zVrJrrqtrnIP",
     "type": "MD",
     "hide_input_from_viewers": true,
     "hide_output_from_viewers": true
    }
   }
  },
  {
   "cell_type": "code",
   "source": [
    "print(\"The number of properties which thier price is less than 100,000  and higher than 6,500,000 are: {:,.0f}\"\\\n",
    "    .format(len(dataset[(dataset.price <= 100000)]) + len(dataset[dataset.price >= 8000000])))\n",
    "dataset = dataset[(dataset.price > 100000) & (dataset.price < 8000000)].reset_index(drop=True)"
   ],
   "execution_count": 41,
   "outputs": [
    {
     "name": "stdout",
     "text": [
      "The number of properties which thier price is less than 100,000  and higher than 6,500,000 are: 25\n"
     ],
     "output_type": "stream"
    }
   ],
   "metadata": {
    "datalore": {
     "node_id": "KeB1139d9HBzMfpyqvGyN5",
     "type": "CODE",
     "hide_input_from_viewers": true,
     "hide_output_from_viewers": true
    }
   }
  },
  {
   "cell_type": "code",
   "source": [
    "dataset[dataset.room_number < 2 ]"
   ],
   "execution_count": 42,
   "outputs": [
    {
     "data": {
      "text/html": [
       "<div>\n",
       "<style scoped>\n",
       "    .dataframe tbody tr th:only-of-type {\n",
       "        vertical-align: middle;\n",
       "    }\n",
       "\n",
       "    .dataframe tbody tr th {\n",
       "        vertical-align: top;\n",
       "    }\n",
       "\n",
       "    .dataframe thead th {\n",
       "        text-align: right;\n",
       "    }\n",
       "</style>\n",
       "<table border=\"1\" class=\"dataframe\">\n",
       "  <thead>\n",
       "    <tr style=\"text-align: right;\">\n",
       "      <th></th>\n",
       "      <th>City</th>\n",
       "      <th>type</th>\n",
       "      <th>room_number</th>\n",
       "      <th>Area</th>\n",
       "      <th>Street</th>\n",
       "      <th>number_in_street</th>\n",
       "      <th>city_area</th>\n",
       "      <th>price</th>\n",
       "      <th>num_of_images</th>\n",
       "      <th>hasElevator</th>\n",
       "      <th>...</th>\n",
       "      <th>hasMamad</th>\n",
       "      <th>handicapFriendly</th>\n",
       "      <th>entranceDate</th>\n",
       "      <th>furniture</th>\n",
       "      <th>publishedDays</th>\n",
       "      <th>description</th>\n",
       "      <th>floor</th>\n",
       "      <th>total_floors</th>\n",
       "      <th>Shopping_Center</th>\n",
       "      <th>Education</th>\n",
       "    </tr>\n",
       "  </thead>\n",
       "  <tbody>\n",
       "    <tr>\n",
       "      <th>286</th>\n",
       "      <td>קרית ביאליק</td>\n",
       "      <td>אחר</td>\n",
       "      <td>1.0</td>\n",
       "      <td>50.000000</td>\n",
       "      <td>קרן היסוד</td>\n",
       "      <td>None</td>\n",
       "      <td>מרכז העיר</td>\n",
       "      <td>1250000.0</td>\n",
       "      <td>0.0</td>\n",
       "      <td>0</td>\n",
       "      <td>...</td>\n",
       "      <td>0</td>\n",
       "      <td>1</td>\n",
       "      <td>not_defined</td>\n",
       "      <td>אין</td>\n",
       "      <td>NaN</td>\n",
       "      <td>חנות חד מפלסית חזיתית ברחוב מרכזי</td>\n",
       "      <td>1.0</td>\n",
       "      <td>1.0</td>\n",
       "      <td>0</td>\n",
       "      <td>0</td>\n",
       "    </tr>\n",
       "    <tr>\n",
       "      <th>402</th>\n",
       "      <td>תל אביב</td>\n",
       "      <td>דירה</td>\n",
       "      <td>1.0</td>\n",
       "      <td>30.000000</td>\n",
       "      <td>דיזנגוף</td>\n",
       "      <td>342</td>\n",
       "      <td>הצפון הישן החלק הצפוני</td>\n",
       "      <td>2290000.0</td>\n",
       "      <td>0.0</td>\n",
       "      <td>0</td>\n",
       "      <td>...</td>\n",
       "      <td>0</td>\n",
       "      <td>0</td>\n",
       "      <td>not_defined</td>\n",
       "      <td>מלא</td>\n",
       "      <td>NaN</td>\n",
       "      <td>נוף מהמם לים!! בנין שמור וצבוע, אינטרקום וקוד ...</td>\n",
       "      <td>0.0</td>\n",
       "      <td>0.0</td>\n",
       "      <td>0</td>\n",
       "      <td>0</td>\n",
       "    </tr>\n",
       "    <tr>\n",
       "      <th>658</th>\n",
       "      <td>רעננה</td>\n",
       "      <td>נחלה</td>\n",
       "      <td>1.0</td>\n",
       "      <td>27.620197</td>\n",
       "      <td>רעננה צפון</td>\n",
       "      <td>None</td>\n",
       "      <td>רעננה צפון</td>\n",
       "      <td>1500000.0</td>\n",
       "      <td>0.0</td>\n",
       "      <td>0</td>\n",
       "      <td>...</td>\n",
       "      <td>0</td>\n",
       "      <td>1</td>\n",
       "      <td>not_defined</td>\n",
       "      <td>לא צויין</td>\n",
       "      <td>NaN</td>\n",
       "      <td>באיזור הכי חם ברעננה, בקרבת HP, SAP ועוד\\nקרקע...</td>\n",
       "      <td>0.0</td>\n",
       "      <td>0.0</td>\n",
       "      <td>0</td>\n",
       "      <td>0</td>\n",
       "    </tr>\n",
       "  </tbody>\n",
       "</table>\n",
       "<p>3 rows × 26 columns</p>\n",
       "</div>"
      ]
     },
     "metadata": {},
     "output_type": "display_data"
    }
   ],
   "metadata": {
    "datalore": {
     "node_id": "up0jb0SwsuT83wLg3uc3dI",
     "type": "CODE",
     "hide_input_from_viewers": true,
     "hide_output_from_viewers": true
    }
   }
  },
  {
   "cell_type": "code",
   "source": [
    "print(\"The number of properties with 10 or more rooms are: {:,.0f}\"\\\n",
    "    .format(len(dataset[dataset.room_number >= 10 ]) + len(dataset[dataset.room_number < 2 ])))\n",
    "dataset = dataset[(dataset.room_number < 10 ) & (dataset.room_number >= 2 )].reset_index(drop=True)"
   ],
   "execution_count": 43,
   "outputs": [
    {
     "name": "stdout",
     "text": [
      "The number of properties with 10 or more rooms are: 5\n"
     ],
     "output_type": "stream"
    }
   ],
   "metadata": {
    "datalore": {
     "node_id": "oR8u1Dnm9BVhocHXtk6bWG",
     "type": "CODE",
     "hide_input_from_viewers": true,
     "hide_output_from_viewers": true
    }
   }
  },
  {
   "cell_type": "code",
   "source": [
    "elev_idx = dataset[(dataset.total_floors >= 6) & (dataset.hasElevator == 0)].index\n",
    "\n",
    "dataset.loc[elev_idx, 'hasElevator'] = 1"
   ],
   "execution_count": 44,
   "outputs": [],
   "metadata": {
    "datalore": {
     "node_id": "tJZVzoqjEUmU3cg8bR2cEi",
     "type": "CODE",
     "hide_input_from_viewers": true,
     "hide_output_from_viewers": true
    }
   }
  },
  {
   "cell_type": "code",
   "source": [
    "print(\"The number of properties with 10 or more rooms are: {:,.0f}\".format(len(dataset[dataset.Area >= 300 ])))\n",
    "dataset = dataset[dataset.Area < 300].reset_index(drop=True)"
   ],
   "execution_count": 45,
   "outputs": [
    {
     "name": "stdout",
     "text": [
      "The number of properties with 10 or more rooms are: 7\n"
     ],
     "output_type": "stream"
    }
   ],
   "metadata": {
    "datalore": {
     "node_id": "L8vQgpkJZkonSzEXppA1TX",
     "type": "CODE",
     "hide_input_from_viewers": true,
     "hide_output_from_viewers": true
    }
   }
  },
  {
   "cell_type": "code",
   "source": [
    "df_to_plot =  dataset[['price', 'room_number', 'Area','floor','total_floors']]\n",
    "df_to_plot.plot(subplots=True, layout=(1,5), kind='box', figsize=(20,10), patch_artist=True)\n",
    "plt.subplots_adjust(wspace=0.5);"
   ],
   "execution_count": 46,
   "outputs": [
    {
     "data": {
      "image/png": "[encoded data removed]"
     },
     "metadata": {
      "image/png": {}
     },
     "output_type": "display_data"
    }
   ],
   "metadata": {
    "datalore": {
     "node_id": "fEFYNryE1MYuj5sRXr9mrQ",
     "type": "CODE",
     "hide_input_from_viewers": true,
     "hide_output_from_viewers": true
    }
   }
  },
  {
   "cell_type": "markdown",
   "source": [
    "**In addition**, an attempt was made to use **Google's API** in order to get the <u>coordinates of the cities</u> and use them as an additional feature.  \n",
    "Since these features did not contribute to the accuracy of the model, the code appears as a comment and is not used further."
   ],
   "attachments": {},
   "metadata": {
    "datalore": {
     "node_id": "wNcdm1nqz4P5FHUgcPgVUK",
     "type": "MD",
     "hide_input_from_viewers": true,
     "hide_output_from_viewers": true
    }
   }
  },
  {
   "cell_type": "code",
   "source": [
    "# import requests\n",
    "# def get_lat_lng(address_string,api_key):\n",
    "#     url=\"https://maps.googleapis.com/maps/api/geocode/json?address=%s&key=%s\" % (address_string,api_key)\n",
    "#     response = requests.get(url).json()\n",
    "#     longitude = response['results'][0]['geometry']['location']['lng']\n",
    "#     latitude = response['results'][0]['geometry']['location']['lat']\n",
    "#     return longitude, latitude\n",
    "\n",
    "# api_key = 'YOUR_API_KEY'\n",
    "\n",
    "# cities = pd.DataFrame([i for i in dataset.City.unique()],columns=['City'])\n",
    "# cities[['longitude', 'latitude']] = cities.City.apply(lambda x: pd.Series(get_lat_lng(x,api_key)))\n",
    "\n",
    "# cities = pd.read_csv('/data/notebook_files/cities_cordinates.csv')\n",
    "# # cities.drop(columns='Unnamed: 0', inplace = True)\n",
    "\n",
    "# dataset = dataset.merge(cities, on=\"City\", how=\"left\")\n",
    "# # dataset.drop(columns= 'City', inplace = True)\n",
    "# dataset"
   ],
   "execution_count": 127,
   "outputs": [],
   "metadata": {
    "datalore": {
     "node_id": "Ey0f6IroVgJKhJ0GpQQBsR",
     "type": "CODE",
     "hide_input_from_viewers": true,
     "hide_output_from_viewers": true
    }
   }
  },
  {
   "cell_type": "markdown",
   "source": [
    "### We need to make the same cleaning and feature engineering to the test set.\n",
    "To do so, we'll write a function that use all of the function we already wrote."
   ],
   "attachments": {},
   "metadata": {
    "datalore": {
     "node_id": "MGo8wI6lllb1LmgW2epYuV",
     "type": "MD",
     "hide_input_from_viewers": true,
     "hide_output_from_viewers": true
    }
   }
  },
  {
   "cell_type": "code",
   "source": [
    "def clean_data(dataset):\n",
    "    # Rename columns\n",
    "    dataset.rename(columns={'hasElevator ':'hasElevator', 'hasParking ':'hasParking', 'hasBars ':'hasBars',\n",
    "                        'hasStorage ':'hasStorage', 'condition ':'condition', 'hasAirCondition ':'hasAirCondition',\n",
    "                        'hasBalcony ':'hasBalcony', 'hasMamad ':'hasMamad', 'handicapFriendly ':'handicapFriendly',\n",
    "                        'entranceDate ':'entranceDate','furniture ':'furniture', 'publishedDays ':'publishedDays',\n",
    "                        'description ':'description'}, inplace = True)\n",
    "    \n",
    "    # Fix and Clean Values\n",
    "\n",
    "    dataset['price'] = dataset['price'].apply(clean_price)\n",
    "    dataset['Area'] = dataset['Area'].apply(clean_area)\n",
    "    dataset.room_number = dataset.room_number.apply(extract_room)\n",
    "    dataset.City = dataset.City.apply(clean_city)\n",
    "    dataset[['floor','total_floors']] = dataset.floor_out_of.apply(lambda row: pd.Series(extract_floors(row)))\n",
    "    dataset.drop(columns='floor_out_of', inplace = True)\n",
    "\n",
    "    bool_cols = ['hasElevator', 'hasParking','hasBars', 'hasStorage',\n",
    "                 'hasAirCondition', 'hasBalcony', 'hasMamad', 'handicapFriendly']\n",
    "    dataset[bool_cols] = dataset[bool_cols].applymap(boolean_encoding)\n",
    "    \n",
    "    dataset.entranceDate = dataset.entranceDate.apply(extract_flexibility)\n",
    "    \n",
    "    address_cols = ['Street','number_in_street','city_area']\n",
    "    dataset[address_cols] = dataset[address_cols].apply(lambda x: pd.Series(fix_address(x)), axis = 1)\n",
    "\n",
    "    # Fill Missing Values\n",
    "\n",
    "    dataset.condition.fillna('לא צויין', inplace = True)\n",
    "    dataset.condition = dataset.condition.replace({'None':'לא צויין','FALSE':'לא צויין'})\n",
    "\n",
    "    dataset.num_of_images.fillna(0, inplace = True)\n",
    "\n",
    "    dataset.description = dataset.description.replace({'None':'אין', 'None ':'אין'})\n",
    "    dataset.description.fillna('אין', inplace = True)\n",
    "\n",
    "    dataset.publishedDays = dataset.publishedDays.replace({'Nan':'None', '-':'None', 'None ':'None', 'חדש': 0, 'חדש!': 0})\n",
    "\n",
    "    dataset.total_floors.fillna(dataset.floor, inplace=True)\n",
    "    \n",
    "    conditions = (dataset['floor'].isna()) & (dataset['type'].isin([\"קוטג'\", 'דו משפחתי']))\n",
    "    dataset.loc[conditions, 'floor'] = 0\n",
    "    dataset.loc[conditions, 'total_floors'] = 0\n",
    "\n",
    "    mean_floor = round(dataset.floor.mean())\n",
    "    dataset.floor.fillna(mean_floor, inplace = True)\n",
    "\n",
    "    mean_tot_floor = round(dataset.total_floors.mean())\n",
    "    dataset.total_floors.fillna(mean_tot_floor, inplace = True)\n",
    "\n",
    "    # Feature Engineering\n",
    "    mean_room_size = (dataset.Area/dataset.room_number).mean()\n",
    "    # Now we can fill the Area for the entires who missing it.\n",
    "    dataset.loc[dataset.Area.isna(), 'Area'] = mean_room_size * dataset.loc[dataset.Area.isna(), 'room_number']\n",
    "    \n",
    "    # Now we can fill the room number for the entires who missing it.\n",
    "    dataset.loc[dataset.room_number.isna(), 'room_number'] = dataset.loc[dataset.room_number.isna(), 'Area'] / mean_room_size  \n",
    "    \n",
    "    \n",
    "    dataset['Shopping_Center'] = dataset.description.apply(lambda x: int(any(map(lambda value: value in x, ['מסחרי','בילוי']))))\n",
    "\n",
    "    edu_list = ['חינוך','בית ספר','בתי ספר',' גנים','מוסד','אוניברסיט']\n",
    "    dataset['Education'] = dataset.description.apply(lambda x: int(any(map(lambda value: value in x, edu_list))))\n",
    "\n",
    "    # Drop untanted columns\n",
    "    dataset = dataset.drop(columns=['city_area','Street', 'number_in_street', 'num_of_images','publishedDays'])\n",
    "\n",
    "    return dataset"
   ],
   "execution_count": 47,
   "outputs": [],
   "metadata": {
    "datalore": {
     "node_id": "RVNmOJgnW87QcUV8BTTlgr",
     "type": "CODE",
     "hide_input_from_viewers": true,
     "hide_output_from_viewers": true
    }
   }
  },
  {
   "cell_type": "markdown",
   "source": [
    "## Pre Processing data before modeling\n",
    "\n",
    "The first step before prediction, and after the EDA and data cleansing step, is preprocessing.  \n",
    "This step includes several actions the data going through in order to get ready to the modeling step.  \n",
    "The steps we chose to do are **One Hot Encoding** and **Min Max Scaler**, on the following columns:  \n",
    "* **One Hot Encoding** - City, type, condition, entranceDate and furniture.\n",
    "* **Min Max Scaler** - room_number, Area, floor, total_floors.\n",
    "\n",
    "First, we'll define out pipelines in order to perform accurate preprocessing before the prediction.  \n",
    "We'll have 3 pipelines:  \n",
    "1. **Categorical Transformer** which perform <u>One Hot Encoding</u> on the relevant columns.\n",
    "2. **Numeric Transformer** which perform <u>Min Max Scaler</u> on the relevant columns.\n",
    "3. **Preprocessor Column Transformer** which <u>combines</u> the previous two into one pipeline."
   ],
   "attachments": {},
   "metadata": {
    "datalore": {
     "node_id": "1739aYx7OGKOiPeKJIqwok",
     "type": "MD",
     "hide_input_from_viewers": true,
     "hide_output_from_viewers": true
    }
   }
  },
  {
   "cell_type": "code",
   "source": [
    "categorical_features = ['City', 'type', 'condition', 'entranceDate', 'furniture']\n",
    "\n",
    "categorical_transformer = Pipeline(\n",
    "    steps=[\n",
    "        (\"encoder\", OneHotEncoder(min_frequency=5,handle_unknown = 'infrequent_if_exist',sparse_output=False,drop='first')),\n",
    "    ]\n",
    ")\n",
    "numeric_features = ['room_number', 'Area', 'floor', 'total_floors']\n",
    "\n",
    "numeric_transformer = Pipeline( \n",
    "    steps=[(\"scaler\", MinMaxScaler())]\n",
    ")\n",
    "\n",
    "preprocessor = ColumnTransformer(\n",
    "    transformers=[\n",
    "        (\"num\", numeric_transformer, numeric_features),\n",
    "        (\"cat\", categorical_transformer, categorical_features),\n",
    "    ]\n",
    ")"
   ],
   "execution_count": 48,
   "outputs": [],
   "metadata": {
    "datalore": {
     "node_id": "6z43dgL71F417w68grzHeA",
     "type": "CODE",
     "hide_input_from_viewers": true,
     "hide_output_from_viewers": true
    }
   }
  },
  {
   "cell_type": "markdown",
   "source": [
    "**You can see the preprocessor as flow chart here:**"
   ],
   "attachments": {},
   "metadata": {
    "datalore": {
     "node_id": "e7zSlnddUiokgeSAdMIEUj",
     "type": "MD",
     "hide_input_from_viewers": true,
     "hide_output_from_viewers": true
    }
   }
  },
  {
   "cell_type": "code",
   "source": [
    "preprocessor"
   ],
   "execution_count": 49,
   "outputs": [
    {
     "data": {
      "text/html": [
       "<style>#sk-container-id-1 {color: black;background-color: white;}#sk-container-id-1 pre{padding: 0;}#sk-container-id-1 div.sk-toggleable {background-color: white;}#sk-container-id-1 label.sk-toggleable__label {cursor: pointer;display: block;width: 100%;margin-bottom: 0;padding: 0.3em;box-sizing: border-box;text-align: center;}#sk-container-id-1 label.sk-toggleable__label-arrow:before {content: \"▸\";float: left;margin-right: 0.25em;color: #696969;}#sk-container-id-1 label.sk-toggleable__label-arrow:hover:before {color: black;}#sk-container-id-1 div.sk-estimator:hover label.sk-toggleable__label-arrow:before {color: black;}#sk-container-id-1 div.sk-toggleable__content {max-height: 0;max-width: 0;overflow: hidden;text-align: left;background-color: #f0f8ff;}#sk-container-id-1 div.sk-toggleable__content pre {margin: 0.2em;color: black;border-radius: 0.25em;background-color: #f0f8ff;}#sk-container-id-1 input.sk-toggleable__control:checked~div.sk-toggleable__content {max-height: 200px;max-width: 100%;overflow: auto;}#sk-container-id-1 input.sk-toggleable__control:checked~label.sk-toggleable__label-arrow:before {content: \"▾\";}#sk-container-id-1 div.sk-estimator input.sk-toggleable__control:checked~label.sk-toggleable__label {background-color: #d4ebff;}#sk-container-id-1 div.sk-label input.sk-toggleable__control:checked~label.sk-toggleable__label {background-color: #d4ebff;}#sk-container-id-1 input.sk-hidden--visually {border: 0;clip: rect(1px 1px 1px 1px);clip: rect(1px, 1px, 1px, 1px);height: 1px;margin: -1px;overflow: hidden;padding: 0;position: absolute;width: 1px;}#sk-container-id-1 div.sk-estimator {font-family: monospace;background-color: #f0f8ff;border: 1px dotted black;border-radius: 0.25em;box-sizing: border-box;margin-bottom: 0.5em;}#sk-container-id-1 div.sk-estimator:hover {background-color: #d4ebff;}#sk-container-id-1 div.sk-parallel-item::after {content: \"\";width: 100%;border-bottom: 1px solid gray;flex-grow: 1;}#sk-container-id-1 div.sk-label:hover label.sk-toggleable__label {background-color: #d4ebff;}#sk-container-id-1 div.sk-serial::before {content: \"\";position: absolute;border-left: 1px solid gray;box-sizing: border-box;top: 0;bottom: 0;left: 50%;z-index: 0;}#sk-container-id-1 div.sk-serial {display: flex;flex-direction: column;align-items: center;background-color: white;padding-right: 0.2em;padding-left: 0.2em;position: relative;}#sk-container-id-1 div.sk-item {position: relative;z-index: 1;}#sk-container-id-1 div.sk-parallel {display: flex;align-items: stretch;justify-content: center;background-color: white;position: relative;}#sk-container-id-1 div.sk-item::before, #sk-container-id-1 div.sk-parallel-item::before {content: \"\";position: absolute;border-left: 1px solid gray;box-sizing: border-box;top: 0;bottom: 0;left: 50%;z-index: -1;}#sk-container-id-1 div.sk-parallel-item {display: flex;flex-direction: column;z-index: 1;position: relative;background-color: white;}#sk-container-id-1 div.sk-parallel-item:first-child::after {align-self: flex-end;width: 50%;}#sk-container-id-1 div.sk-parallel-item:last-child::after {align-self: flex-start;width: 50%;}#sk-container-id-1 div.sk-parallel-item:only-child::after {width: 0;}#sk-container-id-1 div.sk-dashed-wrapped {border: 1px dashed gray;margin: 0 0.4em 0.5em 0.4em;box-sizing: border-box;padding-bottom: 0.4em;background-color: white;}#sk-container-id-1 div.sk-label label {font-family: monospace;font-weight: bold;display: inline-block;line-height: 1.2em;}#sk-container-id-1 div.sk-label-container {text-align: center;}#sk-container-id-1 div.sk-container {/* jupyter's `normalize.less` sets `[hidden] { display: none; }` but bootstrap.min.css set `[hidden] { display: none !important; }` so we also need the `!important` here to be able to override the default hidden behavior on the sphinx rendered scikit-learn.org. See: https://github.com/scikit-learn/scikit-learn/issues/21755 */display: inline-block !important;position: relative;}#sk-container-id-1 div.sk-text-repr-fallback {display: none;}</style><div id=\"sk-container-id-1\" class=\"sk-top-container\"><div class=\"sk-text-repr-fallback\"><pre>ColumnTransformer(transformers=[(&#x27;num&#x27;,\n",
       "                                 Pipeline(steps=[(&#x27;scaler&#x27;, MinMaxScaler())]),\n",
       "                                 [&#x27;room_number&#x27;, &#x27;Area&#x27;, &#x27;floor&#x27;,\n",
       "                                  &#x27;total_floors&#x27;]),\n",
       "                                (&#x27;cat&#x27;,\n",
       "                                 Pipeline(steps=[(&#x27;encoder&#x27;,\n",
       "                                                  OneHotEncoder(drop=&#x27;first&#x27;,\n",
       "                                                                handle_unknown=&#x27;infrequent_if_exist&#x27;,\n",
       "                                                                min_frequency=5,\n",
       "                                                                sparse_output=False))]),\n",
       "                                 [&#x27;City&#x27;, &#x27;type&#x27;, &#x27;condition&#x27;, &#x27;entranceDate&#x27;,\n",
       "                                  &#x27;furniture&#x27;])])</pre><b>In a Jupyter environment, please rerun this cell to show the HTML representation or trust the notebook. <br />On GitHub, the HTML representation is unable to render, please try loading this page with nbviewer.org.</b></div><div class=\"sk-container\" hidden><div class=\"sk-item sk-dashed-wrapped\"><div class=\"sk-label-container\"><div class=\"sk-label sk-toggleable\"><input class=\"sk-toggleable__control sk-hidden--visually\" id=\"sk-estimator-id-1\" type=\"checkbox\" ><label for=\"sk-estimator-id-1\" class=\"sk-toggleable__label sk-toggleable__label-arrow\">ColumnTransformer</label><div class=\"sk-toggleable__content\"><pre>ColumnTransformer(transformers=[(&#x27;num&#x27;,\n",
       "                                 Pipeline(steps=[(&#x27;scaler&#x27;, MinMaxScaler())]),\n",
       "                                 [&#x27;room_number&#x27;, &#x27;Area&#x27;, &#x27;floor&#x27;,\n",
       "                                  &#x27;total_floors&#x27;]),\n",
       "                                (&#x27;cat&#x27;,\n",
       "                                 Pipeline(steps=[(&#x27;encoder&#x27;,\n",
       "                                                  OneHotEncoder(drop=&#x27;first&#x27;,\n",
       "                                                                handle_unknown=&#x27;infrequent_if_exist&#x27;,\n",
       "                                                                min_frequency=5,\n",
       "                                                                sparse_output=False))]),\n",
       "                                 [&#x27;City&#x27;, &#x27;type&#x27;, &#x27;condition&#x27;, &#x27;entranceDate&#x27;,\n",
       "                                  &#x27;furniture&#x27;])])</pre></div></div></div><div class=\"sk-parallel\"><div class=\"sk-parallel-item\"><div class=\"sk-item\"><div class=\"sk-label-container\"><div class=\"sk-label sk-toggleable\"><input class=\"sk-toggleable__control sk-hidden--visually\" id=\"sk-estimator-id-2\" type=\"checkbox\" ><label for=\"sk-estimator-id-2\" class=\"sk-toggleable__label sk-toggleable__label-arrow\">num</label><div class=\"sk-toggleable__content\"><pre>[&#x27;room_number&#x27;, &#x27;Area&#x27;, &#x27;floor&#x27;, &#x27;total_floors&#x27;]</pre></div></div></div><div class=\"sk-serial\"><div class=\"sk-item\"><div class=\"sk-serial\"><div class=\"sk-item\"><div class=\"sk-estimator sk-toggleable\"><input class=\"sk-toggleable__control sk-hidden--visually\" id=\"sk-estimator-id-3\" type=\"checkbox\" ><label for=\"sk-estimator-id-3\" class=\"sk-toggleable__label sk-toggleable__label-arrow\">MinMaxScaler</label><div class=\"sk-toggleable__content\"><pre>MinMaxScaler()</pre></div></div></div></div></div></div></div></div><div class=\"sk-parallel-item\"><div class=\"sk-item\"><div class=\"sk-label-container\"><div class=\"sk-label sk-toggleable\"><input class=\"sk-toggleable__control sk-hidden--visually\" id=\"sk-estimator-id-4\" type=\"checkbox\" ><label for=\"sk-estimator-id-4\" class=\"sk-toggleable__label sk-toggleable__label-arrow\">cat</label><div class=\"sk-toggleable__content\"><pre>[&#x27;City&#x27;, &#x27;type&#x27;, &#x27;condition&#x27;, &#x27;entranceDate&#x27;, &#x27;furniture&#x27;]</pre></div></div></div><div class=\"sk-serial\"><div class=\"sk-item\"><div class=\"sk-serial\"><div class=\"sk-item\"><div class=\"sk-estimator sk-toggleable\"><input class=\"sk-toggleable__control sk-hidden--visually\" id=\"sk-estimator-id-5\" type=\"checkbox\" ><label for=\"sk-estimator-id-5\" class=\"sk-toggleable__label sk-toggleable__label-arrow\">OneHotEncoder</label><div class=\"sk-toggleable__content\"><pre>OneHotEncoder(drop=&#x27;first&#x27;, handle_unknown=&#x27;infrequent_if_exist&#x27;,\n",
       "              min_frequency=5, sparse_output=False)</pre></div></div></div></div></div></div></div></div></div></div></div></div>"
      ]
     },
     "metadata": {},
     "output_type": "display_data"
    }
   ],
   "metadata": {
    "datalore": {
     "node_id": "QgCy79baw5OMvTrt3NYMnz",
     "type": "CODE",
     "hide_input_from_viewers": true,
     "hide_output_from_viewers": true
    }
   }
  },
  {
   "cell_type": "markdown",
   "source": [
    "**Now, we can move the data through the preprocesser.**  \n",
    "**BUT**, before do so, we want to drop several columns we found as irrelevant (and even damage) the modeling and predicting."
   ],
   "attachments": {},
   "metadata": {
    "datalore": {
     "node_id": "wVSStiezU9hJE1Yiz9mtBM",
     "type": "MD",
     "hide_input_from_viewers": true,
     "hide_output_from_viewers": true
    }
   }
  },
  {
   "cell_type": "code",
   "source": [
    "dataset = mc.MoveToLast(dataset,'price')\n",
    "X = dataset.iloc[:,:-1]\n",
    "y = dataset.price\n",
    "X.drop(columns=['city_area','Street', 'number_in_street', 'num_of_images','publishedDays'], inplace=True)"
   ],
   "execution_count": 50,
   "outputs": [],
   "metadata": {
    "datalore": {
     "node_id": "uWvfN7uhyALjSYJas0CceI",
     "type": "CODE",
     "hide_input_from_viewers": true,
     "hide_output_from_viewers": true
    }
   }
  },
  {
   "cell_type": "code",
   "source": [
    "X.sample()"
   ],
   "execution_count": 51,
   "outputs": [
    {
     "data": {
      "text/html": [
       "<div>\n",
       "<style scoped>\n",
       "    .dataframe tbody tr th:only-of-type {\n",
       "        vertical-align: middle;\n",
       "    }\n",
       "\n",
       "    .dataframe tbody tr th {\n",
       "        vertical-align: top;\n",
       "    }\n",
       "\n",
       "    .dataframe thead th {\n",
       "        text-align: right;\n",
       "    }\n",
       "</style>\n",
       "<table border=\"1\" class=\"dataframe\">\n",
       "  <thead>\n",
       "    <tr style=\"text-align: right;\">\n",
       "      <th></th>\n",
       "      <th>City</th>\n",
       "      <th>type</th>\n",
       "      <th>room_number</th>\n",
       "      <th>Area</th>\n",
       "      <th>hasElevator</th>\n",
       "      <th>hasParking</th>\n",
       "      <th>hasBars</th>\n",
       "      <th>hasStorage</th>\n",
       "      <th>condition</th>\n",
       "      <th>hasAirCondition</th>\n",
       "      <th>hasBalcony</th>\n",
       "      <th>hasMamad</th>\n",
       "      <th>handicapFriendly</th>\n",
       "      <th>entranceDate</th>\n",
       "      <th>furniture</th>\n",
       "      <th>description</th>\n",
       "      <th>floor</th>\n",
       "      <th>total_floors</th>\n",
       "      <th>Shopping_Center</th>\n",
       "      <th>Education</th>\n",
       "    </tr>\n",
       "  </thead>\n",
       "  <tbody>\n",
       "    <tr>\n",
       "      <th>650</th>\n",
       "      <td>רעננה</td>\n",
       "      <td>דירת גן</td>\n",
       "      <td>5.0</td>\n",
       "      <td>153.0</td>\n",
       "      <td>0</td>\n",
       "      <td>1</td>\n",
       "      <td>0</td>\n",
       "      <td>0</td>\n",
       "      <td>חדש</td>\n",
       "      <td>0</td>\n",
       "      <td>0</td>\n",
       "      <td>0</td>\n",
       "      <td>1</td>\n",
       "      <td>flexible</td>\n",
       "      <td>לא צויין</td>\n",
       "      <td>למכירה ברעננה דירת גן מרהיבה!במיקום מרכזי ומבו...</td>\n",
       "      <td>0.0</td>\n",
       "      <td>0.0</td>\n",
       "      <td>0</td>\n",
       "      <td>0</td>\n",
       "    </tr>\n",
       "  </tbody>\n",
       "</table>\n",
       "</div>"
      ]
     },
     "metadata": {},
     "output_type": "display_data"
    }
   ],
   "metadata": {
    "datalore": {
     "node_id": "c6vkrrKcGgC1qbUSnOZj1c",
     "type": "CODE",
     "hide_input_from_viewers": true,
     "hide_output_from_viewers": true
    }
   }
  },
  {
   "cell_type": "markdown",
   "source": [
    "## Modeling, Cross validation and predicting\n",
    "Now, as we have our X and y data ready and we've got the preprocessor - **We are ready to run the data through the model!**  \n",
    "\n",
    "We'll use the ElasticNet model as our Machine Learning predicting model.\n",
    "\n",
    "We now have to **split** out X and y into train and test split, **fit** the model on the train set and **evaluate** it using the test set.  \n",
    "\n",
    "During the exercise we tried <u>several methods</u>, such as the traditional **train test split**, **K-Folds Cross validation** and more.  \n",
    "We found that the **<u>Leave One Out Cross Validation</u>** is the **best way** to fit and evaluate our models, because this way, each iteration we have large train set, as only one sample serve us as test set.\n",
    "\n",
    "**<u>In the following code cell we'll preform the following actions:</u>**  \n",
    "1. **Split** the data into train and test sets, as in each iteration only one sample kept as test sample.\n",
    "2. **Fit and transform** the <u>preprocessor</u> using X_train\n",
    "3. **Transform** the fitted preprossesor on the X_test\n",
    "4. **Fit** the ElasticNet model (Note that during our work we found that the **best parameters** are `alpha=0.1` and `l1_ration=0.95`).\n",
    "5. **Predict** the price of the test sample\n",
    "6. **Evaluate** the model performance: If the rmse is less than 350,000, keep it in `models` list.\n",
    "7. **Repeat** steps 1-6 over the entire data."
   ],
   "attachments": {},
   "metadata": {
    "datalore": {
     "node_id": "DhXFDliWXFi6G7Mm6VYENz",
     "type": "MD",
     "hide_input_from_viewers": true,
     "hide_output_from_viewers": true
    }
   }
  },
  {
   "cell_type": "code",
   "source": [
    "# Create new list for model evaluating\n",
    "test_mean_err =[]\n",
    "models_mse =[]\n",
    "models_rmse =[]\n",
    "models = []\n",
    "i = 0 # model indacator\n",
    "loo = LeaveOneOut()\n",
    "for train_index, test_index in loo.split(X):\n",
    "    i += 1 \n",
    "    print(f'Model #{i}')\n",
    "    X_train, X_test, y_train, y_test = X.iloc[train_index], X.iloc[test_index], y.iloc[train_index], y.iloc[test_index]\n",
    "    \n",
    "    # Fit and transform the preprocessor using X_train\n",
    "\n",
    "    train_set_prepro = preprocessor.fit_transform(X_train)\n",
    "    X_train = X_train.drop(columns=['description','City', 'type', 'condition', 'entranceDate', 'furniture',\n",
    "                                  'room_number','Area','floor','total_floors'])\n",
    "    train_set_prepro = pd.DataFrame(train_set_prepro, columns=preprocessor.get_feature_names_out())\n",
    "    train_set_prepro.index = X_train.index\n",
    "    X_train = pd.concat([X_train,train_set_prepro], axis=1)\n",
    "    \n",
    "    # Transform the fitted preprossesor on the X_test\n",
    "    \n",
    "    test_set_prepro = preprocessor.transform(X_test)\n",
    "    X_test = X_test.drop(columns=['description','City', 'type', 'condition', 'entranceDate', 'furniture',\n",
    "                                  'room_number','Area','floor','total_floors'])\n",
    "    test_set_prepro = pd.DataFrame(test_set_prepro, columns=preprocessor.get_feature_names_out())\n",
    "    test_set_prepro.index = X_test.index\n",
    "    X_test = pd.concat([X_test,test_set_prepro], axis=1)\n",
    "    \n",
    "    # Fit the model\n",
    "    model = ElasticNet(alpha=0.1, l1_ratio=0.95)\n",
    "    model.fit(X_train, y_train)\n",
    "\n",
    "    # Predict\n",
    "    y_pred = model.predict(X_test)\n",
    "\n",
    "    # Model evaluation\n",
    "    mse = mean_squared_error(y_test, y_pred)\n",
    "    rmse = np.sqrt(mse)\n",
    "\n",
    "    # We chose to take the models who had rmse lower then 350,000\n",
    "    if rmse < 350000:\n",
    "        models.append(model)\n",
    "        models_mse.append(mse)\n",
    "        models_rmse.append(rmse)"
   ],
   "execution_count": 53,
   "outputs": [
    {
     "name": "stdout",
     "text": [
      "Model #1\n",
      "Model #2\n",
      "Model #3\n",
      "Model #4\n",
      "Model #5\n",
      "Model #6\n",
      "Model #7\n",
      "Model #8\n",
      "Model #9\n",
      "Model #10\n",
      "Model #11\n",
      "Model #12\n",
      "Model #13\n",
      "Model #14\n",
      "Model #15\n",
      "Model #16\n",
      "Model #17\n",
      "Model #18\n",
      "Model #19\n",
      "Model #20\n",
      "Model #21\n",
      "Model #22\n",
      "Model #23\n",
      "Model #24\n",
      "Model #25\n",
      "Model #26\n",
      "Model #27\n",
      "Model #28\n",
      "Model #29\n",
      "Model #30\n",
      "Model #31\n",
      "Model #32\n",
      "Model #33\n",
      "Model #34\n",
      "Model #35\n",
      "Model #36\n",
      "Model #37\n",
      "Model #38\n",
      "Model #39\n",
      "Model #40\n",
      "Model #41\n",
      "Model #42\n",
      "Model #43\n",
      "Model #44\n",
      "Model #45\n",
      "Model #46\n",
      "Model #47\n",
      "Model #48\n",
      "Model #49\n",
      "Model #50\n",
      "Model #51\n",
      "Model #52\n",
      "Model #53\n",
      "Model #54\n",
      "Model #55\n",
      "Model #56\n",
      "Model #57\n",
      "Model #58\n",
      "Model #59\n",
      "Model #60\n",
      "Model #61\n",
      "Model #62\n",
      "Model #63\n",
      "Model #64\n",
      "Model #65\n",
      "Model #66\n",
      "Model #67\n",
      "Model #68\n",
      "Model #69\n",
      "Model #70\n",
      "Model #71\n",
      "Model #72\n",
      "Model #73\n",
      "Model #74\n",
      "Model #75\n",
      "Model #76\n",
      "Model #77\n",
      "Model #78\n",
      "Model #79\n",
      "Model #80\n",
      "Model #81\n",
      "Model #82\n",
      "Model #83\n",
      "Model #84\n",
      "Model #85\n",
      "Model #86\n",
      "Model #87\n",
      "Model #88\n",
      "Model #89\n",
      "Model #90\n",
      "Model #91\n",
      "Model #92\n",
      "Model #93\n",
      "Model #94\n",
      "Model #95\n",
      "Model #96\n",
      "Model #97\n",
      "Model #98\n",
      "Model #99\n",
      "Model #100\n",
      "Model #101\n",
      "Model #102\n",
      "Model #103\n",
      "Model #104\n",
      "Model #105\n",
      "Model #106\n",
      "Model #107\n",
      "Model #108\n",
      "Model #109\n",
      "Model #110\n",
      "Model #111\n",
      "Model #112\n",
      "Model #113\n",
      "Model #114\n",
      "Model #115\n",
      "Model #116\n",
      "Model #117\n",
      "Model #118\n",
      "Model #119\n",
      "Model #120\n",
      "Model #121\n",
      "Model #122\n",
      "Model #123\n",
      "Model #124\n",
      "Model #125\n",
      "Model #126\n",
      "Model #127\n",
      "Model #128\n",
      "Model #129\n",
      "Model #130\n",
      "Model #131\n",
      "Model #132\n",
      "Model #133\n",
      "Model #134\n",
      "Model #135\n",
      "Model #136\n",
      "Model #137\n",
      "Model #138\n",
      "Model #139\n",
      "Model #140\n",
      "Model #141\n",
      "Model #142\n",
      "Model #143\n",
      "Model #144\n",
      "Model #145\n",
      "Model #146\n",
      "Model #147\n",
      "Model #148\n",
      "Model #149\n",
      "Model #150\n",
      "Model #151\n",
      "Model #152\n",
      "Model #153\n",
      "Model #154\n",
      "Model #155\n",
      "Model #156\n",
      "Model #157\n",
      "Model #158\n",
      "Model #159\n",
      "Model #160\n",
      "Model #161\n",
      "Model #162\n",
      "Model #163\n",
      "Model #164\n",
      "Model #165\n",
      "Model #166\n",
      "Model #167\n",
      "Model #168\n",
      "Model #169\n",
      "Model #170\n",
      "Model #171\n",
      "Model #172\n",
      "Model #173\n",
      "Model #174\n",
      "Model #175\n",
      "Model #176\n",
      "Model #177\n",
      "Model #178\n",
      "Model #179\n",
      "Model #180\n",
      "Model #181\n",
      "Model #182\n",
      "Model #183\n",
      "Model #184\n",
      "Model #185\n",
      "Model #186\n",
      "Model #187\n",
      "Model #188\n",
      "Model #189\n",
      "Model #190\n",
      "Model #191\n",
      "Model #192\n",
      "Model #193\n",
      "Model #194\n",
      "Model #195\n",
      "Model #196\n",
      "Model #197\n",
      "Model #198\n",
      "Model #199\n",
      "Model #200\n",
      "Model #201\n",
      "Model #202\n",
      "Model #203\n",
      "Model #204\n",
      "Model #205\n",
      "Model #206\n",
      "Model #207\n",
      "Model #208\n",
      "Model #209\n",
      "Model #210\n",
      "Model #211\n",
      "Model #212\n",
      "Model #213\n",
      "Model #214\n",
      "Model #215\n",
      "Model #216\n",
      "Model #217\n",
      "Model #218\n",
      "Model #219\n",
      "Model #220\n",
      "Model #221\n",
      "Model #222\n",
      "Model #223\n",
      "Model #224\n",
      "Model #225\n",
      "Model #226\n",
      "Model #227\n",
      "Model #228\n",
      "Model #229\n",
      "Model #230\n",
      "Model #231\n",
      "Model #232\n",
      "Model #233\n",
      "Model #234\n",
      "Model #235\n",
      "Model #236\n",
      "Model #237\n",
      "Model #238\n",
      "Model #239\n",
      "Model #240\n",
      "Model #241\n",
      "Model #242\n",
      "Model #243\n",
      "Model #244\n",
      "Model #245\n",
      "Model #246\n",
      "Model #247\n",
      "Model #248\n",
      "Model #249\n",
      "Model #250\n",
      "Model #251\n",
      "Model #252\n",
      "Model #253\n",
      "Model #254\n",
      "Model #255\n",
      "Model #256\n",
      "Model #257\n",
      "Model #258\n",
      "Model #259\n",
      "Model #260\n",
      "Model #261\n",
      "Model #262\n",
      "Model #263\n",
      "Model #264\n",
      "Model #265\n",
      "Model #266\n",
      "Model #267\n",
      "Model #268\n",
      "Model #269\n",
      "Model #270\n",
      "Model #271\n",
      "Model #272\n",
      "Model #273\n",
      "Model #274\n",
      "Model #275\n",
      "Model #276\n",
      "Model #277\n",
      "Model #278\n",
      "Model #279\n",
      "Model #280\n",
      "Model #281\n",
      "Model #282\n",
      "Model #283\n",
      "Model #284\n",
      "Model #285\n",
      "Model #286\n",
      "Model #287\n",
      "Model #288\n",
      "Model #289\n",
      "Model #290\n",
      "Model #291\n",
      "Model #292\n",
      "Model #293\n",
      "Model #294\n",
      "Model #295\n",
      "Model #296\n",
      "Model #297\n",
      "Model #298\n",
      "Model #299\n",
      "Model #300\n",
      "Model #301\n",
      "Model #302\n",
      "Model #303\n",
      "Model #304\n",
      "Model #305\n",
      "Model #306\n",
      "Model #307\n",
      "Model #308\n",
      "Model #309\n",
      "Model #310\n",
      "Model #311\n",
      "Model #312\n",
      "Model #313\n",
      "Model #314\n",
      "Model #315\n",
      "Model #316\n",
      "Model #317\n",
      "Model #318\n",
      "Model #319\n",
      "Model #320\n",
      "Model #321\n",
      "Model #322\n",
      "Model #323\n",
      "Model #324\n",
      "Model #325\n",
      "Model #326\n",
      "Model #327\n",
      "Model #328\n",
      "Model #329\n",
      "Model #330\n",
      "Model #331\n",
      "Model #332\n",
      "Model #333\n",
      "Model #334\n",
      "Model #335\n",
      "Model #336\n",
      "Model #337\n",
      "Model #338\n",
      "Model #339\n",
      "Model #340\n",
      "Model #341\n",
      "Model #342\n",
      "Model #343\n",
      "Model #344\n",
      "Model #345\n",
      "Model #346\n",
      "Model #347\n",
      "Model #348\n",
      "Model #349\n",
      "Model #350\n",
      "Model #351\n",
      "Model #352\n",
      "Model #353\n",
      "Model #354\n",
      "Model #355\n",
      "Model #356\n",
      "Model #357\n",
      "Model #358\n",
      "Model #359\n",
      "Model #360\n",
      "Model #361\n",
      "Model #362\n",
      "Model #363\n",
      "Model #364\n",
      "Model #365\n",
      "Model #366\n",
      "Model #367\n",
      "Model #368\n",
      "Model #369\n",
      "Model #370\n",
      "Model #371\n",
      "Model #372\n",
      "Model #373\n",
      "Model #374\n",
      "Model #375\n",
      "Model #376\n",
      "Model #377\n",
      "Model #378\n",
      "Model #379\n",
      "Model #380\n",
      "Model #381\n",
      "Model #382\n",
      "Model #383\n",
      "Model #384\n",
      "Model #385\n",
      "Model #386\n",
      "Model #387\n",
      "Model #388\n",
      "Model #389\n",
      "Model #390\n",
      "Model #391\n",
      "Model #392\n",
      "Model #393\n",
      "Model #394\n",
      "Model #395\n",
      "Model #396\n",
      "Model #397\n",
      "Model #398\n",
      "Model #399\n",
      "Model #400\n",
      "Model #401\n",
      "Model #402\n",
      "Model #403\n",
      "Model #404\n",
      "Model #405\n",
      "Model #406\n",
      "Model #407\n",
      "Model #408\n",
      "Model #409\n",
      "Model #410\n",
      "Model #411\n",
      "Model #412\n",
      "Model #413\n",
      "Model #414\n",
      "Model #415\n",
      "Model #416\n",
      "Model #417\n",
      "Model #418\n",
      "Model #419\n",
      "Model #420\n",
      "Model #421\n",
      "Model #422\n",
      "Model #423\n",
      "Model #424\n",
      "Model #425\n",
      "Model #426\n",
      "Model #427\n",
      "Model #428\n",
      "Model #429\n",
      "Model #430\n",
      "Model #431\n",
      "Model #432\n",
      "Model #433\n",
      "Model #434\n",
      "Model #435\n",
      "Model #436\n",
      "Model #437\n",
      "Model #438\n",
      "Model #439\n",
      "Model #440\n",
      "Model #441\n",
      "Model #442\n",
      "Model #443\n",
      "Model #444\n",
      "Model #445\n",
      "Model #446\n",
      "Model #447\n",
      "Model #448\n",
      "Model #449\n",
      "Model #450\n",
      "Model #451\n",
      "Model #452\n",
      "Model #453\n",
      "Model #454\n",
      "Model #455\n",
      "Model #456\n",
      "Model #457\n",
      "Model #458\n",
      "Model #459\n",
      "Model #460\n",
      "Model #461\n",
      "Model #462\n",
      "Model #463\n",
      "Model #464\n",
      "Model #465\n",
      "Model #466\n",
      "Model #467\n",
      "Model #468\n",
      "Model #469\n",
      "Model #470\n",
      "Model #471\n",
      "Model #472\n",
      "Model #473\n",
      "Model #474\n",
      "Model #475\n",
      "Model #476\n",
      "Model #477\n",
      "Model #478\n",
      "Model #479\n",
      "Model #480\n",
      "Model #481\n",
      "Model #482\n",
      "Model #483\n",
      "Model #484\n",
      "Model #485\n",
      "Model #486\n",
      "Model #487\n",
      "Model #488\n",
      "Model #489\n",
      "Model #490\n",
      "Model #491\n",
      "Model #492\n",
      "Model #493\n",
      "Model #494\n",
      "Model #495\n",
      "Model #496\n",
      "Model #497\n",
      "Model #498\n",
      "Model #499\n",
      "Model #500\n",
      "Model #501\n",
      "Model #502\n",
      "Model #503\n",
      "Model #504\n",
      "Model #505\n",
      "Model #506\n",
      "Model #507\n",
      "Model #508\n",
      "Model #509\n",
      "Model #510\n",
      "Model #511\n",
      "Model #512\n",
      "Model #513\n",
      "Model #514\n",
      "Model #515\n",
      "Model #516\n",
      "Model #517\n",
      "Model #518\n",
      "Model #519\n",
      "Model #520\n",
      "Model #521\n",
      "Model #522\n",
      "Model #523\n",
      "Model #524\n",
      "Model #525\n",
      "Model #526\n",
      "Model #527\n",
      "Model #528\n",
      "Model #529\n",
      "Model #530\n",
      "Model #531\n",
      "Model #532\n",
      "Model #533\n",
      "Model #534\n",
      "Model #535\n",
      "Model #536\n",
      "Model #537\n",
      "Model #538\n",
      "Model #539\n",
      "Model #540\n",
      "Model #541\n",
      "Model #542\n",
      "Model #543\n",
      "Model #544\n",
      "Model #545\n",
      "Model #546\n",
      "Model #547\n",
      "Model #548\n",
      "Model #549\n",
      "Model #550\n",
      "Model #551\n",
      "Model #552\n",
      "Model #553\n",
      "Model #554\n",
      "Model #555\n",
      "Model #556\n",
      "Model #557\n",
      "Model #558\n",
      "Model #559\n",
      "Model #560\n",
      "Model #561\n",
      "Model #562\n",
      "Model #563\n",
      "Model #564\n",
      "Model #565\n",
      "Model #566\n",
      "Model #567\n",
      "Model #568\n",
      "Model #569\n",
      "Model #570\n",
      "Model #571\n",
      "Model #572\n",
      "Model #573\n",
      "Model #574\n",
      "Model #575\n",
      "Model #576\n",
      "Model #577\n",
      "Model #578\n",
      "Model #579\n",
      "Model #580\n",
      "Model #581\n",
      "Model #582\n",
      "Model #583\n",
      "Model #584\n",
      "Model #585\n",
      "Model #586\n",
      "Model #587\n",
      "Model #588\n",
      "Model #589\n",
      "Model #590\n",
      "Model #591\n",
      "Model #592\n",
      "Model #593\n",
      "Model #594\n",
      "Model #595\n",
      "Model #596\n",
      "Model #597\n",
      "Model #598\n",
      "Model #599\n",
      "Model #600\n",
      "Model #601\n",
      "Model #602\n",
      "Model #603\n",
      "Model #604\n",
      "Model #605\n",
      "Model #606\n",
      "Model #607\n",
      "Model #608\n",
      "Model #609\n",
      "Model #610\n",
      "Model #611\n",
      "Model #612\n",
      "Model #613\n",
      "Model #614\n",
      "Model #615\n",
      "Model #616\n",
      "Model #617\n",
      "Model #618\n",
      "Model #619\n",
      "Model #620\n",
      "Model #621\n",
      "Model #622\n",
      "Model #623\n",
      "Model #624\n",
      "Model #625\n",
      "Model #626\n",
      "Model #627\n",
      "Model #628\n",
      "Model #629\n",
      "Model #630\n",
      "Model #631\n",
      "Model #632\n",
      "Model #633\n",
      "Model #634\n",
      "Model #635\n",
      "Model #636\n",
      "Model #637\n",
      "Model #638\n",
      "Model #639\n",
      "Model #640\n",
      "Model #641\n",
      "Model #642\n",
      "Model #643\n",
      "Model #644\n",
      "Model #645\n",
      "Model #646\n",
      "Model #647\n",
      "Model #648\n",
      "Model #649\n",
      "Model #650\n",
      "Model #651\n",
      "Model #652\n",
      "Model #653\n",
      "Model #654\n",
      "Model #655\n",
      "Model #656\n"
     ],
     "output_type": "stream"
    },
    {
     "name": "stderr",
     "text": [
      "/opt/python/envs/default/lib/python3.8/site-packages/sklearn/preprocessing/_encoders.py:202: UserWarning: Found unknown categories in columns [1] during transform. These unknown categories will be encoded as all zeros\n",
      "  warnings.warn(\n"
     ],
     "output_type": "stream"
    }
   ],
   "metadata": {
    "datalore": {
     "node_id": "TPONTWPAZiPkCz6RXUZAsB",
     "type": "CODE",
     "hide_input_from_viewers": true,
     "hide_output_from_viewers": true
    }
   }
  },
  {
   "cell_type": "markdown",
   "source": [
    "You can see that among the models we kept, the **mean RMSE** is **157,592** with **Standard Deviation** of **95,383**.  \n",
    " \n",
    "We find this quite accurate, especially when considering the high price of the properties and the wide various of the different data points."
   ],
   "attachments": {},
   "metadata": {
    "datalore": {
     "node_id": "W8DuCXvGnn7icHO0cK7qoQ",
     "type": "MD",
     "hide_input_from_viewers": true,
     "hide_output_from_viewers": true
    }
   }
  },
  {
   "cell_type": "code",
   "source": [
    "print(f'Mean MSE {np.mean(models_mse)}, Std: {np.std(models_mse)}\\nMean RMSE {np.mean(models_rmse)}, Std: {np.std(models_rmse)}')"
   ],
   "execution_count": 54,
   "outputs": [
    {
     "name": "stdout",
     "text": [
      "Mean MSE 33933259553.7398, Std: 32705815786.16906\n",
      "Mean RMSE 157592.18310996346, Std: 95383.24473604128\n"
     ],
     "output_type": "stream"
    }
   ],
   "metadata": {
    "datalore": {
     "node_id": "9AMHkCLdftivetxfVggkK3",
     "type": "CODE",
     "hide_input_from_viewers": true,
     "hide_output_from_viewers": true
    }
   }
  },
  {
   "cell_type": "markdown",
   "source": [
    "**Because it's now important what model we take next to production, we'll take randomly one of them.**"
   ],
   "attachments": {},
   "metadata": {
    "datalore": {
     "node_id": "DsLwmTOv94TaBhJReolO7K",
     "type": "MD",
     "hide_input_from_viewers": true,
     "hide_output_from_viewers": true
    }
   }
  },
  {
   "cell_type": "code",
   "source": [
    "final_model = models[random.randint(0,len(models))]\n",
    "final_model"
   ],
   "execution_count": 55,
   "outputs": [
    {
     "data": {
      "text/html": [
       "<style>#sk-container-id-2 {color: black;background-color: white;}#sk-container-id-2 pre{padding: 0;}#sk-container-id-2 div.sk-toggleable {background-color: white;}#sk-container-id-2 label.sk-toggleable__label {cursor: pointer;display: block;width: 100%;margin-bottom: 0;padding: 0.3em;box-sizing: border-box;text-align: center;}#sk-container-id-2 label.sk-toggleable__label-arrow:before {content: \"▸\";float: left;margin-right: 0.25em;color: #696969;}#sk-container-id-2 label.sk-toggleable__label-arrow:hover:before {color: black;}#sk-container-id-2 div.sk-estimator:hover label.sk-toggleable__label-arrow:before {color: black;}#sk-container-id-2 div.sk-toggleable__content {max-height: 0;max-width: 0;overflow: hidden;text-align: left;background-color: #f0f8ff;}#sk-container-id-2 div.sk-toggleable__content pre {margin: 0.2em;color: black;border-radius: 0.25em;background-color: #f0f8ff;}#sk-container-id-2 input.sk-toggleable__control:checked~div.sk-toggleable__content {max-height: 200px;max-width: 100%;overflow: auto;}#sk-container-id-2 input.sk-toggleable__control:checked~label.sk-toggleable__label-arrow:before {content: \"▾\";}#sk-container-id-2 div.sk-estimator input.sk-toggleable__control:checked~label.sk-toggleable__label {background-color: #d4ebff;}#sk-container-id-2 div.sk-label input.sk-toggleable__control:checked~label.sk-toggleable__label {background-color: #d4ebff;}#sk-container-id-2 input.sk-hidden--visually {border: 0;clip: rect(1px 1px 1px 1px);clip: rect(1px, 1px, 1px, 1px);height: 1px;margin: -1px;overflow: hidden;padding: 0;position: absolute;width: 1px;}#sk-container-id-2 div.sk-estimator {font-family: monospace;background-color: #f0f8ff;border: 1px dotted black;border-radius: 0.25em;box-sizing: border-box;margin-bottom: 0.5em;}#sk-container-id-2 div.sk-estimator:hover {background-color: #d4ebff;}#sk-container-id-2 div.sk-parallel-item::after {content: \"\";width: 100%;border-bottom: 1px solid gray;flex-grow: 1;}#sk-container-id-2 div.sk-label:hover label.sk-toggleable__label {background-color: #d4ebff;}#sk-container-id-2 div.sk-serial::before {content: \"\";position: absolute;border-left: 1px solid gray;box-sizing: border-box;top: 0;bottom: 0;left: 50%;z-index: 0;}#sk-container-id-2 div.sk-serial {display: flex;flex-direction: column;align-items: center;background-color: white;padding-right: 0.2em;padding-left: 0.2em;position: relative;}#sk-container-id-2 div.sk-item {position: relative;z-index: 1;}#sk-container-id-2 div.sk-parallel {display: flex;align-items: stretch;justify-content: center;background-color: white;position: relative;}#sk-container-id-2 div.sk-item::before, #sk-container-id-2 div.sk-parallel-item::before {content: \"\";position: absolute;border-left: 1px solid gray;box-sizing: border-box;top: 0;bottom: 0;left: 50%;z-index: -1;}#sk-container-id-2 div.sk-parallel-item {display: flex;flex-direction: column;z-index: 1;position: relative;background-color: white;}#sk-container-id-2 div.sk-parallel-item:first-child::after {align-self: flex-end;width: 50%;}#sk-container-id-2 div.sk-parallel-item:last-child::after {align-self: flex-start;width: 50%;}#sk-container-id-2 div.sk-parallel-item:only-child::after {width: 0;}#sk-container-id-2 div.sk-dashed-wrapped {border: 1px dashed gray;margin: 0 0.4em 0.5em 0.4em;box-sizing: border-box;padding-bottom: 0.4em;background-color: white;}#sk-container-id-2 div.sk-label label {font-family: monospace;font-weight: bold;display: inline-block;line-height: 1.2em;}#sk-container-id-2 div.sk-label-container {text-align: center;}#sk-container-id-2 div.sk-container {/* jupyter's `normalize.less` sets `[hidden] { display: none; }` but bootstrap.min.css set `[hidden] { display: none !important; }` so we also need the `!important` here to be able to override the default hidden behavior on the sphinx rendered scikit-learn.org. See: https://github.com/scikit-learn/scikit-learn/issues/21755 */display: inline-block !important;position: relative;}#sk-container-id-2 div.sk-text-repr-fallback {display: none;}</style><div id=\"sk-container-id-2\" class=\"sk-top-container\"><div class=\"sk-text-repr-fallback\"><pre>ElasticNet(alpha=0.1, l1_ratio=0.95)</pre><b>In a Jupyter environment, please rerun this cell to show the HTML representation or trust the notebook. <br />On GitHub, the HTML representation is unable to render, please try loading this page with nbviewer.org.</b></div><div class=\"sk-container\" hidden><div class=\"sk-item\"><div class=\"sk-estimator sk-toggleable\"><input class=\"sk-toggleable__control sk-hidden--visually\" id=\"sk-estimator-id-6\" type=\"checkbox\" checked><label for=\"sk-estimator-id-6\" class=\"sk-toggleable__label sk-toggleable__label-arrow\">ElasticNet</label><div class=\"sk-toggleable__content\"><pre>ElasticNet(alpha=0.1, l1_ratio=0.95)</pre></div></div></div></div></div>"
      ]
     },
     "metadata": {},
     "output_type": "display_data"
    }
   ],
   "metadata": {
    "datalore": {
     "node_id": "aXWzenB2EppGduriAP3a9A",
     "type": "CODE",
     "hide_input_from_viewers": true,
     "hide_output_from_viewers": true
    }
   }
  },
  {
   "cell_type": "markdown",
   "source": [
    "### About featue importance\n",
    "We can learn about **how important** each data point and how much it contributed to the model. for example, you can see that the model found that the **city Tel Aviv** is the **most important feature**.  \n",
    "\n",
    "This way we learned more about our data during the exercise, knowledge that helped us to decide what columns we should drop."
   ],
   "attachments": {},
   "metadata": {
    "datalore": {
     "node_id": "GHl3kVe80gJmBdjerdQB7I",
     "type": "MD",
     "hide_input_from_viewers": true,
     "hide_output_from_viewers": true
    }
   }
  },
  {
   "cell_type": "code",
   "source": [
    "feature_importance = pd.DataFrame([final_model.coef_], columns = final_model.feature_names_in_).T\n",
    "feature_importance[0].sort_values(ascending=False)"
   ],
   "execution_count": 56,
   "outputs": [
    {
     "data": {
      "text/html": [
       "<pre>cat__City_תל אביב    1.905212e+06\n",
       "num__Area            1.900043e+06\n",
       "num__room_number     1.157041e+06\n",
       "cat__City_רעננה      9.755826e+05\n",
       "cat__City_רמת גן     6.937179e+05\n",
       "                         ...     \n",
       "cat__City_צפת       -7.340861e+05\n",
       "cat__City_באר שבע   -8.790965e+05\n",
       "cat__type_דירה      -9.266832e+05\n",
       "cat__City_דימונה    -9.976243e+05\n",
       "cat__City_בית שאן   -1.367616e+06\n",
       "Name: 0, Length: 62, dtype: float64</pre>"
      ]
     },
     "metadata": {},
     "output_type": "display_data"
    }
   ],
   "metadata": {
    "datalore": {
     "node_id": "etFsbVIeCOufDLhZgwL2e6",
     "type": "CODE",
     "hide_input_from_viewers": true,
     "hide_output_from_viewers": true
    }
   }
  },
  {
   "cell_type": "markdown",
   "source": [
    "## Predict price for new data\n",
    "Thanks to the efficiency with which the code was written, includes the `clean_data` function and the `preprocessor` pipeline,  \n",
    "We can now take any new dataset and predict its properties' prices."
   ],
   "attachments": {},
   "metadata": {
    "datalore": {
     "node_id": "CdbJ9IE7Bo89wwFSsLgm9J",
     "type": "MD",
     "hide_input_from_viewers": true,
     "hide_output_from_viewers": true
    }
   }
  },
  {
   "cell_type": "code",
   "source": [
    "# Read the file\n",
    "file_name = '/data/notebook_files/Dataset_for_test.csv'\n",
    "test_set = pd.read_csv(file_name)"
   ],
   "execution_count": 57,
   "outputs": [],
   "metadata": {
    "datalore": {
     "node_id": "zt8jXRtWMYHj6ANdbIvGyA",
     "type": "CODE",
     "hide_input_from_viewers": true,
     "hide_output_from_viewers": true
    }
   }
  },
  {
   "cell_type": "markdown",
   "source": [
    "We need to perform the `clean_data` function before doing any other action"
   ],
   "attachments": {},
   "metadata": {
    "datalore": {
     "node_id": "Xh8KXfhsEjZ7D9nq8kD9LU",
     "type": "MD",
     "hide_input_from_viewers": true,
     "hide_output_from_viewers": true
    }
   }
  },
  {
   "cell_type": "code",
   "source": [
    "test_set.head(3)"
   ],
   "execution_count": 58,
   "outputs": [
    {
     "data": {
      "text/html": [
       "<div>\n",
       "<style scoped>\n",
       "    .dataframe tbody tr th:only-of-type {\n",
       "        vertical-align: middle;\n",
       "    }\n",
       "\n",
       "    .dataframe tbody tr th {\n",
       "        vertical-align: top;\n",
       "    }\n",
       "\n",
       "    .dataframe thead th {\n",
       "        text-align: right;\n",
       "    }\n",
       "</style>\n",
       "<table border=\"1\" class=\"dataframe\">\n",
       "  <thead>\n",
       "    <tr style=\"text-align: right;\">\n",
       "      <th></th>\n",
       "      <th>City</th>\n",
       "      <th>type</th>\n",
       "      <th>room_number</th>\n",
       "      <th>Area</th>\n",
       "      <th>Street</th>\n",
       "      <th>number_in_street</th>\n",
       "      <th>city_area</th>\n",
       "      <th>price</th>\n",
       "      <th>num_of_images</th>\n",
       "      <th>floor_out_of</th>\n",
       "      <th>...</th>\n",
       "      <th>hasStorage</th>\n",
       "      <th>condition</th>\n",
       "      <th>hasAirCondition</th>\n",
       "      <th>hasBalcony</th>\n",
       "      <th>hasMamad</th>\n",
       "      <th>handicapFriendly</th>\n",
       "      <th>entranceDate</th>\n",
       "      <th>furniture</th>\n",
       "      <th>publishedDays</th>\n",
       "      <th>description</th>\n",
       "    </tr>\n",
       "  </thead>\n",
       "  <tbody>\n",
       "    <tr>\n",
       "      <th>0</th>\n",
       "      <td>פתח תקווה</td>\n",
       "      <td>בית פרטי</td>\n",
       "      <td>4</td>\n",
       "      <td>600</td>\n",
       "      <td>עזרא ונחמיה</td>\n",
       "      <td>44.0</td>\n",
       "      <td>עמישב</td>\n",
       "      <td>6999999</td>\n",
       "      <td>2</td>\n",
       "      <td>קומת קרקע</td>\n",
       "      <td>...</td>\n",
       "      <td>FALSE</td>\n",
       "      <td>משופץ</td>\n",
       "      <td>TRUE</td>\n",
       "      <td>FALSE</td>\n",
       "      <td>FALSE</td>\n",
       "      <td>FALSE</td>\n",
       "      <td>לא צויין</td>\n",
       "      <td>מלא</td>\n",
       "      <td>NaN</td>\n",
       "      <td>דירת מרווחת ומוארת במצב מצוין, 4 חדרים גדולים,...</td>\n",
       "    </tr>\n",
       "    <tr>\n",
       "      <th>1</th>\n",
       "      <td>דימונה</td>\n",
       "      <td>דירה</td>\n",
       "      <td>2</td>\n",
       "      <td>45</td>\n",
       "      <td>דיין משה</td>\n",
       "      <td>117.0</td>\n",
       "      <td>נאות קטיף</td>\n",
       "      <td>520000</td>\n",
       "      <td>0</td>\n",
       "      <td>קומה 1 מתוך 4</td>\n",
       "      <td>...</td>\n",
       "      <td>0</td>\n",
       "      <td>לא צויין</td>\n",
       "      <td>1</td>\n",
       "      <td>0</td>\n",
       "      <td>0</td>\n",
       "      <td>0</td>\n",
       "      <td>לא צויין</td>\n",
       "      <td>מלא</td>\n",
       "      <td>11.0</td>\n",
       "      <td>אזור טוב ושקט בדימונה.שכנים נוחים.הדירה מושכרת...</td>\n",
       "    </tr>\n",
       "    <tr>\n",
       "      <th>2</th>\n",
       "      <td>ירושלים</td>\n",
       "      <td>דירה</td>\n",
       "      <td>3 חד׳</td>\n",
       "      <td>94 מ\"ר</td>\n",
       "      <td>רבדים</td>\n",
       "      <td>6.0</td>\n",
       "      <td>ארנונה (תלפיות)</td>\n",
       "      <td>₪3,450,000</td>\n",
       "      <td>11</td>\n",
       "      <td>קומה 8 מתוך 8</td>\n",
       "      <td>...</td>\n",
       "      <td>כן</td>\n",
       "      <td>משופץ</td>\n",
       "      <td>כן</td>\n",
       "      <td>כן</td>\n",
       "      <td>לא</td>\n",
       "      <td>כן</td>\n",
       "      <td>לא צויין</td>\n",
       "      <td>חלקי</td>\n",
       "      <td>NaN</td>\n",
       "      <td>הדירה משופצת ומושקעת , נמצאת בקרבת תחבורה ציב...</td>\n",
       "    </tr>\n",
       "  </tbody>\n",
       "</table>\n",
       "<p>3 rows × 23 columns</p>\n",
       "</div>"
      ]
     },
     "metadata": {},
     "output_type": "display_data"
    }
   ],
   "metadata": {
    "datalore": {
     "node_id": "F8NdBbNrkWb31K5tTJNhrN",
     "type": "CODE",
     "hide_input_from_viewers": true,
     "hide_output_from_viewers": true
    }
   }
  },
  {
   "cell_type": "markdown",
   "source": [
    "Perform the `clean_data` function on the test set"
   ],
   "attachments": {},
   "metadata": {
    "datalore": {
     "node_id": "3A4cXVOVh1wALFGxCNtXAG",
     "type": "MD",
     "hide_input_from_viewers": true,
     "hide_output_from_viewers": true
    }
   }
  },
  {
   "cell_type": "code",
   "source": [
    "test_set = clean_data(test_set)"
   ],
   "execution_count": 59,
   "outputs": [],
   "metadata": {
    "datalore": {
     "node_id": "nQmqIZSJR5JqA4nBTmomX3",
     "type": "CODE",
     "hide_input_from_viewers": true,
     "hide_output_from_viewers": true
    }
   }
  },
  {
   "cell_type": "markdown",
   "source": [
    "We'll hold the price under `real_price`"
   ],
   "attachments": {},
   "metadata": {
    "datalore": {
     "node_id": "bM0AovYFPRgRlGapSwsO42",
     "type": "MD",
     "hide_input_from_viewers": true,
     "hide_output_from_viewers": true
    }
   }
  },
  {
   "cell_type": "code",
   "source": [
    "real_price = test_set.price\n",
    "test_set = test_set.drop(columns='price')"
   ],
   "execution_count": 60,
   "outputs": [],
   "metadata": {
    "datalore": {
     "node_id": "5zk1lSj9GdCnmVeiVWkgPL",
     "type": "CODE",
     "hide_input_from_viewers": true,
     "hide_output_from_viewers": true
    }
   }
  },
  {
   "cell_type": "markdown",
   "source": [
    "Now, we'll perform the same process we've done during the model fitting, but this time on the real properties for which we ask to predict the price."
   ],
   "attachments": {},
   "metadata": {
    "datalore": {
     "node_id": "lv0hAq1DvxiJq11vwqpBdP",
     "type": "MD",
     "hide_input_from_viewers": true,
     "hide_output_from_viewers": true
    }
   }
  },
  {
   "cell_type": "code",
   "source": [
    "test_set_prepro = preprocessor.transform(test_set)\n",
    "test_set = test_set.drop(columns=['description','City', 'type', 'condition', 'entranceDate', 'furniture',\n",
    "                                  'room_number','Area','floor','total_floors'])\n",
    "test_set_prepro = pd.DataFrame(test_set_prepro, columns=preprocessor.get_feature_names_out())\n",
    "test_set_prepro.index = test_set.index\n",
    "test_set = pd.concat([test_set,test_set_prepro], axis=1)"
   ],
   "execution_count": 61,
   "outputs": [
    {
     "name": "stderr",
     "text": [
      "/opt/python/envs/default/lib/python3.8/site-packages/sklearn/preprocessing/_encoders.py:202: UserWarning: Found unknown categories in columns [2, 4] during transform. These unknown categories will be encoded as all zeros\n",
      "  warnings.warn(\n"
     ],
     "output_type": "stream"
    }
   ],
   "metadata": {
    "datalore": {
     "node_id": "W27sphFReEY0ZQLAFoMeFR",
     "type": "CODE",
     "hide_input_from_viewers": true,
     "hide_output_from_viewers": true
    }
   }
  },
  {
   "cell_type": "markdown",
   "source": [
    "**Predict the properties' prices:**"
   ],
   "attachments": {},
   "metadata": {
    "datalore": {
     "node_id": "drV7oIgqrlEYNpPMiZlFJ9",
     "type": "MD",
     "hide_input_from_viewers": true,
     "hide_output_from_viewers": true
    }
   }
  },
  {
   "cell_type": "code",
   "source": [
    "y_pred = final_model.predict(test_set)"
   ],
   "execution_count": 62,
   "outputs": [],
   "metadata": {
    "datalore": {
     "node_id": "SpWdvPUHAk3N73GtgbRNUy",
     "type": "CODE",
     "hide_input_from_viewers": true,
     "hide_output_from_viewers": true
    }
   }
  },
  {
   "cell_type": "markdown",
   "source": [
    "Error table:"
   ],
   "attachments": {},
   "metadata": {
    "datalore": {
     "node_id": "3XcVggzBI4qLYzUM6aBAOM",
     "type": "MD",
     "hide_input_from_viewers": true,
     "hide_output_from_viewers": true
    }
   }
  },
  {
   "cell_type": "code",
   "source": [
    "values = pd.DataFrame([y_pred,real_price,np.abs(real_price-y_pred)]).T\n",
    "predicted_table = values.rename(columns={0:'Predicted',1:'Real_Price', 2:'Absolute_Error'})\n",
    "predicted_table"
   ],
   "execution_count": 63,
   "outputs": [
    {
     "data": {
      "text/html": [
       "<div>\n",
       "<style scoped>\n",
       "    .dataframe tbody tr th:only-of-type {\n",
       "        vertical-align: middle;\n",
       "    }\n",
       "\n",
       "    .dataframe tbody tr th {\n",
       "        vertical-align: top;\n",
       "    }\n",
       "\n",
       "    .dataframe thead th {\n",
       "        text-align: right;\n",
       "    }\n",
       "</style>\n",
       "<table border=\"1\" class=\"dataframe\">\n",
       "  <thead>\n",
       "    <tr style=\"text-align: right;\">\n",
       "      <th></th>\n",
       "      <th>Predicted</th>\n",
       "      <th>Real_Price</th>\n",
       "      <th>Absolute_Error</th>\n",
       "    </tr>\n",
       "  </thead>\n",
       "  <tbody>\n",
       "    <tr>\n",
       "      <th>0</th>\n",
       "      <td>7.071654e+06</td>\n",
       "      <td>6999999.0</td>\n",
       "      <td>7.165516e+04</td>\n",
       "    </tr>\n",
       "    <tr>\n",
       "      <th>1</th>\n",
       "      <td>2.139262e+05</td>\n",
       "      <td>520000.0</td>\n",
       "      <td>3.060738e+05</td>\n",
       "    </tr>\n",
       "    <tr>\n",
       "      <th>2</th>\n",
       "      <td>3.056115e+06</td>\n",
       "      <td>3450000.0</td>\n",
       "      <td>3.938847e+05</td>\n",
       "    </tr>\n",
       "    <tr>\n",
       "      <th>3</th>\n",
       "      <td>3.350317e+06</td>\n",
       "      <td>3800000.0</td>\n",
       "      <td>4.496827e+05</td>\n",
       "    </tr>\n",
       "    <tr>\n",
       "      <th>4</th>\n",
       "      <td>5.128139e+06</td>\n",
       "      <td>5555555.0</td>\n",
       "      <td>4.274158e+05</td>\n",
       "    </tr>\n",
       "    <tr>\n",
       "      <th>5</th>\n",
       "      <td>4.198136e+06</td>\n",
       "      <td>3730000.0</td>\n",
       "      <td>4.681356e+05</td>\n",
       "    </tr>\n",
       "    <tr>\n",
       "      <th>6</th>\n",
       "      <td>2.380431e+06</td>\n",
       "      <td>1870000.0</td>\n",
       "      <td>5.104313e+05</td>\n",
       "    </tr>\n",
       "    <tr>\n",
       "      <th>7</th>\n",
       "      <td>2.826138e+06</td>\n",
       "      <td>2290000.0</td>\n",
       "      <td>5.361382e+05</td>\n",
       "    </tr>\n",
       "    <tr>\n",
       "      <th>8</th>\n",
       "      <td>2.843119e+06</td>\n",
       "      <td>3150000.0</td>\n",
       "      <td>3.068808e+05</td>\n",
       "    </tr>\n",
       "    <tr>\n",
       "      <th>9</th>\n",
       "      <td>1.697804e+06</td>\n",
       "      <td>1430000.0</td>\n",
       "      <td>2.678039e+05</td>\n",
       "    </tr>\n",
       "    <tr>\n",
       "      <th>10</th>\n",
       "      <td>3.364823e+06</td>\n",
       "      <td>4850000.0</td>\n",
       "      <td>1.485177e+06</td>\n",
       "    </tr>\n",
       "  </tbody>\n",
       "</table>\n",
       "</div>"
      ]
     },
     "metadata": {},
     "output_type": "display_data"
    }
   ],
   "metadata": {
    "datalore": {
     "node_id": "YvXHkMoq8uOHw1P8bdD9gy",
     "type": "CODE",
     "hide_input_from_viewers": true,
     "hide_output_from_viewers": true
    }
   }
  },
  {
   "cell_type": "code",
   "source": [
    "rmse = np.sqrt((predicted_table.Absolute_Error**2).mean())\n",
    "print(f'The RMSE of the model on the test set is {rmse} with STD of {np.std(predicted_table.Absolute_Error)}')"
   ],
   "execution_count": 64,
   "outputs": [
    {
     "name": "stdout",
     "text": [
      "The RMSE of the model on the test set is 586022.0805094637 with STD of 343431.91855035734\n"
     ],
     "output_type": "stream"
    }
   ],
   "metadata": {
    "datalore": {
     "node_id": "ZbdoBfLzV1aFWf0JzTSn3J",
     "type": "CODE",
     "hide_input_from_viewers": true,
     "hide_output_from_viewers": true
    }
   }
  },
  {
   "cell_type": "markdown",
   "source": [
    "## Save the relevant files in order to upload them to flask app"
   ],
   "attachments": {},
   "metadata": {
    "datalore": {
     "node_id": "NRkUJ5KTMOBdaeIw6GneQE",
     "type": "MD",
     "hide_input_from_viewers": true,
     "hide_output_from_viewers": true
    }
   }
  },
  {
   "cell_type": "code",
   "source": [
    "# Save the fitted model using pickle\n",
    "with open('properties_model.pkl', 'wb') as file:\n",
    "    pickle.dump(final_model, file)\n",
    "\n",
    "# Save the fitted ColumnTransformer using pickle\n",
    "with open('fitted_preprocessor.pkl', 'wb') as file:\n",
    "    pickle.dump(preprocessor, file)"
   ],
   "execution_count": 65,
   "outputs": [],
   "metadata": {
    "datalore": {
     "node_id": "2og5lZrdfWya11dYyftmd9",
     "type": "CODE",
     "hide_input_from_viewers": true,
     "hide_output_from_viewers": true
    }
   }
  }
 ],
 "metadata": {
  "kernelspec": {
   "display_name": "Python",
   "language": "python",
   "name": "python"
  },
  "datalore": {
   "computation_mode": "JUPYTER",
   "package_manager": "pip",
   "base_environment": "default",
   "packages": [],
   "report_row_ids": [],
   "version": 3
  }
 },
 "nbformat": 4,
 "nbformat_minor": 4
}
